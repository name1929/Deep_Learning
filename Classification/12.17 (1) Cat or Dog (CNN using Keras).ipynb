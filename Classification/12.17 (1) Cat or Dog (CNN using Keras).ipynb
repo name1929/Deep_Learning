{
 "cells": [
  {
   "cell_type": "markdown",
   "metadata": {},
   "source": [
    "https://becominghuman.ai/building-an-image-classifier-using-deep-learning-in-python-totally-from-a-beginners-perspective-be8dbaf22dd8"
   ]
  },
  {
   "cell_type": "markdown",
   "metadata": {},
   "source": [
    "# 1. kears를 이용한 이미지 CNN"
   ]
  },
  {
   "cell_type": "markdown",
   "metadata": {},
   "source": [
    " 캐글 데이터"
   ]
  },
  {
   "cell_type": "code",
   "execution_count": 1,
   "metadata": {},
   "outputs": [
    {
     "name": "stderr",
     "output_type": "stream",
     "text": [
      "C:\\Users\\user\\Anaconda3\\lib\\site-packages\\h5py\\__init__.py:36: FutureWarning: Conversion of the second argument of issubdtype from `float` to `np.floating` is deprecated. In future, it will be treated as `np.float64 == np.dtype(float).type`.\n",
      "  from ._conv import register_converters as _register_converters\n",
      "Using TensorFlow backend.\n"
     ]
    }
   ],
   "source": [
    "from keras.models import Sequential # 케라스 모델의 기본\n",
    "from keras.layers import Conv2D # 2D형태로 하겠다\n",
    "from keras.layers import MaxPooling2D # 2D를 자르고 붙일 때~ 큰 값을 붙이겠다. c.f) Pooling 개념.\n",
    "from keras.layers import Flatten # CNN (여러 층)으로 쌓은 것을 한층으로 변환\n",
    "from keras.layers import Dense,LSTM # RNN 할 때 씀"
   ]
  },
  {
   "cell_type": "markdown",
   "metadata": {},
   "source": [
    "### 모델 설정"
   ]
  },
  {
   "cell_type": "code",
   "execution_count": 2,
   "metadata": {},
   "outputs": [],
   "source": [
    "classifier = Sequential()"
   ]
  },
  {
   "cell_type": "code",
   "execution_count": 3,
   "metadata": {},
   "outputs": [],
   "source": [
    "classifier.add(Conv2D(32, (3, 3), input_shape = (64, 64, 3), activation = 'relu'))\n",
    "# 활성함수 종류 : relu 등\n",
    "\n",
    "classifier.add(MaxPooling2D(pool_size = (2, 2)))\n",
    "\n",
    "# 2*2 = 4. 4개 중에 1개를 고르겠다\n",
    "\n",
    "classifier.add(Conv2D(32, (3, 3), activation = 'relu'))\n",
    "\n",
    "classifier.add(MaxPooling2D(pool_size = (2, 2)))\n",
    "\n",
    "classifier.add(Flatten())\n",
    "\n",
    "classifier.add(Dense(units = 128, activation = 'relu'))\n",
    "\n",
    "classifier.add(Dense(units = 1, activation = 'sigmoid'))\n",
    "#맞고 틀리고를 결정하기 때문에 1개로 설정\n",
    "\n",
    "classifier.compile(optimizer = 'adam', loss = 'binary_crossentropy', metrics = ['accuracy'])\n",
    "##loss에 뭐뭐를 넣을수 있는지 알아보기,optimizer 종류 알아보기\n",
    "# metrics(분류) 할 때 accuracy라는 메트릭스 사용 \n"
   ]
  },
  {
   "cell_type": "code",
   "execution_count": 4,
   "metadata": {},
   "outputs": [],
   "source": [
    "from keras.preprocessing.image import ImageDataGenerator # ImageDataGenerator : 케라스 이미지 전처리"
   ]
  },
  {
   "cell_type": "code",
   "execution_count": 5,
   "metadata": {},
   "outputs": [],
   "source": [
    "train_datagen = ImageDataGenerator(rescale = 1./255,##왜 255로 나누는지\n",
    "                                   shear_range = 0.2,## 파라미터 검색\n",
    "                                   zoom_range = 0.2, ## 파라미터 검색\n",
    "                                   horizontal_flip = True) ## 파라미터 검색\n",
    "\n",
    "test_datagen = ImageDataGenerator(rescale = 1./255)##왜 255로 나누는지"
   ]
  },
  {
   "cell_type": "code",
   "execution_count": 7,
   "metadata": {},
   "outputs": [
    {
     "name": "stdout",
     "output_type": "stream",
     "text": [
      "Found 2814 images belonging to 2 classes.\n",
      "Found 1106 images belonging to 2 classes.\n",
      "Epoch 1/10\n",
      "50/50 [==============================] - 69s 1s/step - loss: 0.6856 - acc: 0.5719 - val_loss: 0.7382 - val_acc: 0.5224\n",
      "Epoch 2/10\n",
      "50/50 [==============================] - 44s 878ms/step - loss: 0.6421 - acc: 0.6176 - val_loss: 0.7721 - val_acc: 0.5215\n",
      "Epoch 3/10\n",
      "50/50 [==============================] - 38s 759ms/step - loss: 0.6472 - acc: 0.6269 - val_loss: 0.7720 - val_acc: 0.5269\n",
      "Epoch 4/10\n",
      "50/50 [==============================] - 38s 765ms/step - loss: 0.6319 - acc: 0.6359 - val_loss: 0.8001 - val_acc: 0.5466\n",
      "Epoch 5/10\n",
      "50/50 [==============================] - 46s 929ms/step - loss: 0.6038 - acc: 0.6650 - val_loss: 0.7106 - val_acc: 0.5933\n",
      "Epoch 6/10\n",
      "50/50 [==============================] - 40s 792ms/step - loss: 0.5803 - acc: 0.6927 - val_loss: 0.8269 - val_acc: 0.5712\n",
      "Epoch 7/10\n",
      "50/50 [==============================] - 42s 835ms/step - loss: 0.5787 - acc: 0.6931 - val_loss: 0.6368 - val_acc: 0.6442\n",
      "Epoch 8/10\n",
      "50/50 [==============================] - 46s 929ms/step - loss: 0.5625 - acc: 0.6983 - val_loss: 0.6463 - val_acc: 0.6259\n",
      "Epoch 9/10\n",
      "50/50 [==============================] - 43s 855ms/step - loss: 0.5656 - acc: 0.6995 - val_loss: 0.7255 - val_acc: 0.5857\n",
      "Epoch 10/10\n",
      "50/50 [==============================] - 42s 846ms/step - loss: 0.5396 - acc: 0.7206 - val_loss: 0.6339 - val_acc: 0.6501\n"
     ]
    },
    {
     "data": {
      "text/plain": [
       "<keras.callbacks.History at 0x1b8b6075630>"
      ]
     },
     "execution_count": 7,
     "metadata": {},
     "output_type": "execute_result"
    }
   ],
   "source": [
    "training_set = train_datagen.flow_from_directory('training_set',##경로 넣기 : 고양이, 개 사진 폴더를 한번에 넣는다. 그러면 자동으로 분류해줌\n",
    "                                                 target_size = (64, 64),\n",
    "                                                 batch_size = 32, # 32번 돌리고 가중치를 계산한다는 뜻\n",
    "                                                 class_mode = 'binary')\n",
    "\n",
    "test_set = test_datagen.flow_from_directory('test_set',##경로 넣기\n",
    "                                            target_size = (64, 64),\n",
    "                                            batch_size = 32,\n",
    "                                            class_mode = 'binary')\n",
    "\n",
    "classifier.fit_generator(training_set, # 일반적으로 model.fit 인데, fit_generator 쓴다.\n",
    "                         steps_per_epoch = 50, # 1번할 때 300번 계산\n",
    "                         epochs = 10, # 300번 계산을 25회 반복\n",
    "                         validation_data = test_set, #검증은 테스트 셋으로 하겠다\n",
    "                         validation_steps = 200) # 2000 "
   ]
  },
  {
   "cell_type": "code",
   "execution_count": 9,
   "metadata": {},
   "outputs": [],
   "source": [
    "output = classifier.predict_generator(test_set, steps=5) # predict_generator  형태가 조금 다르네~ "
   ]
  },
  {
   "cell_type": "code",
   "execution_count": 10,
   "metadata": {},
   "outputs": [
    {
     "name": "stdout",
     "output_type": "stream",
     "text": [
      "{'cats': 0, 'dogs': 1}\n",
      "[[0.95766836]\n",
      " [0.8421487 ]\n",
      " [0.71082574]\n",
      " [0.8816673 ]\n",
      " [0.3581872 ]\n",
      " [0.6694553 ]\n",
      " [0.7079265 ]\n",
      " [0.9521008 ]\n",
      " [0.98321193]\n",
      " [0.8425312 ]\n",
      " [0.91151166]\n",
      " [0.5335006 ]\n",
      " [0.9931738 ]\n",
      " [0.7433312 ]\n",
      " [0.6345433 ]\n",
      " [0.9686074 ]\n",
      " [0.94150794]\n",
      " [0.4283708 ]\n",
      " [0.65929365]\n",
      " [0.49869516]\n",
      " [0.5732741 ]\n",
      " [0.76338077]\n",
      " [0.9299841 ]\n",
      " [0.7790798 ]\n",
      " [0.6526882 ]\n",
      " [0.94102484]\n",
      " [0.41402838]\n",
      " [0.75271845]\n",
      " [0.81095815]\n",
      " [0.7560791 ]\n",
      " [0.9498645 ]\n",
      " [0.5816794 ]\n",
      " [0.6506004 ]\n",
      " [0.2254569 ]\n",
      " [0.8047491 ]\n",
      " [0.68170476]\n",
      " [0.30416825]\n",
      " [0.5145992 ]\n",
      " [0.83881056]\n",
      " [0.35520548]\n",
      " [0.5589372 ]\n",
      " [0.7498548 ]\n",
      " [0.59690106]\n",
      " [0.5172522 ]\n",
      " [0.87936586]\n",
      " [0.8635184 ]\n",
      " [0.39502463]\n",
      " [0.97255874]\n",
      " [0.9825074 ]\n",
      " [0.98396504]\n",
      " [0.53062445]\n",
      " [0.94024235]\n",
      " [0.5479731 ]\n",
      " [0.33694318]\n",
      " [0.5176769 ]\n",
      " [0.928215  ]\n",
      " [0.5960569 ]\n",
      " [0.68885225]\n",
      " [0.5782829 ]\n",
      " [0.64808685]\n",
      " [0.6830954 ]\n",
      " [0.33166867]\n",
      " [0.6488221 ]\n",
      " [0.73854417]\n",
      " [0.9064682 ]\n",
      " [0.99564666]\n",
      " [0.10288626]\n",
      " [0.61350185]\n",
      " [0.99787235]\n",
      " [0.6002282 ]\n",
      " [0.57574224]\n",
      " [0.86963814]\n",
      " [0.91784024]\n",
      " [0.39417136]\n",
      " [0.7204115 ]\n",
      " [0.6256615 ]\n",
      " [0.6480598 ]\n",
      " [0.49352393]\n",
      " [0.8139235 ]\n",
      " [0.24788266]\n",
      " [0.51376235]\n",
      " [0.6225157 ]\n",
      " [0.2670368 ]\n",
      " [0.4335586 ]\n",
      " [0.7641575 ]\n",
      " [0.92777544]\n",
      " [0.99173284]\n",
      " [0.5571005 ]\n",
      " [0.6789807 ]\n",
      " [0.985194  ]\n",
      " [0.78635263]\n",
      " [0.87836677]\n",
      " [0.87468493]\n",
      " [0.22696254]\n",
      " [0.8261262 ]\n",
      " [0.7436886 ]\n",
      " [0.45717764]\n",
      " [0.69000167]\n",
      " [0.8879071 ]\n",
      " [0.8935599 ]\n",
      " [0.55555975]\n",
      " [0.8272998 ]\n",
      " [0.61543405]\n",
      " [0.84135026]\n",
      " [0.89692014]\n",
      " [0.99784184]\n",
      " [0.95553726]\n",
      " [0.72359115]\n",
      " [0.5867261 ]\n",
      " [0.9445264 ]\n",
      " [0.9127249 ]\n",
      " [0.84797305]\n",
      " [0.71071494]\n",
      " [0.57206887]\n",
      " [0.9603692 ]\n",
      " [0.42639965]\n",
      " [0.7358978 ]\n",
      " [0.9127215 ]\n",
      " [0.6338673 ]\n",
      " [0.6036187 ]\n",
      " [0.91391397]\n",
      " [0.81626207]\n",
      " [0.8550349 ]\n",
      " [0.9128578 ]\n",
      " [0.9186574 ]\n",
      " [0.9227819 ]\n",
      " [0.7224352 ]\n",
      " [0.4853363 ]\n",
      " [0.26234984]\n",
      " [0.6585902 ]\n",
      " [0.5965956 ]\n",
      " [0.76690763]\n",
      " [0.8303484 ]\n",
      " [0.68495226]\n",
      " [0.517326  ]\n",
      " [0.84403175]\n",
      " [0.8858098 ]\n",
      " [0.9305931 ]\n",
      " [0.82175785]\n",
      " [0.5681007 ]\n",
      " [0.8322614 ]\n",
      " [0.8813746 ]\n",
      " [0.99650806]\n",
      " [0.6626171 ]\n",
      " [0.9737534 ]\n",
      " [0.9285906 ]\n",
      " [0.7849237 ]\n",
      " [0.91617537]\n",
      " [0.8643463 ]\n",
      " [0.89156985]\n",
      " [0.7337487 ]\n",
      " [0.84968597]\n",
      " [0.5072287 ]\n",
      " [0.6245193 ]\n",
      " [0.77301085]\n",
      " [0.9313058 ]\n",
      " [0.86692435]\n",
      " [0.561662  ]\n",
      " [0.44032708]\n",
      " [0.85780597]]\n"
     ]
    }
   ],
   "source": [
    "print(test_set.class_indices)\n",
    "print(output)"
   ]
  },
  {
   "cell_type": "code",
   "execution_count": 16,
   "metadata": {},
   "outputs": [],
   "source": [
    "y_pred = output.round()"
   ]
  },
  {
   "cell_type": "markdown",
   "metadata": {},
   "source": [
    "pred 값과 test 라벨의 비교는 어떻게 이루어지는지?"
   ]
  }
 ],
 "metadata": {
  "kernelspec": {
   "display_name": "Python 3",
   "language": "python",
   "name": "python3"
  },
  "language_info": {
   "codemirror_mode": {
    "name": "ipython",
    "version": 3
   },
   "file_extension": ".py",
   "mimetype": "text/x-python",
   "name": "python",
   "nbconvert_exporter": "python",
   "pygments_lexer": "ipython3",
   "version": "3.6.5"
  }
 },
 "nbformat": 4,
 "nbformat_minor": 2
}
