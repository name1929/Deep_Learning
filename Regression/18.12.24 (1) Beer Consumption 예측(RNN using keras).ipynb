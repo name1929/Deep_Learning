{
 "cells": [
  {
   "cell_type": "markdown",
   "metadata": {},
   "source": [
    "# Beer Consumption 예측 using RNN"
   ]
  },
  {
   "cell_type": "markdown",
   "metadata": {},
   "source": [
    "## 1. 데이터 로드"
   ]
  },
  {
   "cell_type": "code",
   "execution_count": 1,
   "metadata": {},
   "outputs": [],
   "source": [
    "import pandas as pd\n",
    "import numpy as np\n",
    "import matplotlib.pyplot as plt"
   ]
  },
  {
   "cell_type": "code",
   "execution_count": 2,
   "metadata": {
    "scrolled": true
   },
   "outputs": [
    {
     "data": {
      "text/html": [
       "<div>\n",
       "<style scoped>\n",
       "    .dataframe tbody tr th:only-of-type {\n",
       "        vertical-align: middle;\n",
       "    }\n",
       "\n",
       "    .dataframe tbody tr th {\n",
       "        vertical-align: top;\n",
       "    }\n",
       "\n",
       "    .dataframe thead th {\n",
       "        text-align: right;\n",
       "    }\n",
       "</style>\n",
       "<table border=\"1\" class=\"dataframe\">\n",
       "  <thead>\n",
       "    <tr style=\"text-align: right;\">\n",
       "      <th></th>\n",
       "      <th>Data</th>\n",
       "      <th>Temperatura Media (C)</th>\n",
       "      <th>Temperatura Minima (C)</th>\n",
       "      <th>Temperatura Maxima (C)</th>\n",
       "      <th>Precipitacao (mm)</th>\n",
       "      <th>Final de Semana</th>\n",
       "      <th>Consumo de cerveja (litros)</th>\n",
       "    </tr>\n",
       "  </thead>\n",
       "  <tbody>\n",
       "    <tr>\n",
       "      <th>0</th>\n",
       "      <td>2015-01-01</td>\n",
       "      <td>27,3</td>\n",
       "      <td>23,9</td>\n",
       "      <td>32,5</td>\n",
       "      <td>0</td>\n",
       "      <td>0.0</td>\n",
       "      <td>25.461</td>\n",
       "    </tr>\n",
       "    <tr>\n",
       "      <th>1</th>\n",
       "      <td>2015-01-02</td>\n",
       "      <td>27,02</td>\n",
       "      <td>24,5</td>\n",
       "      <td>33,5</td>\n",
       "      <td>0</td>\n",
       "      <td>0.0</td>\n",
       "      <td>28.972</td>\n",
       "    </tr>\n",
       "  </tbody>\n",
       "</table>\n",
       "</div>"
      ],
      "text/plain": [
       "         Data Temperatura Media (C) Temperatura Minima (C)  \\\n",
       "0  2015-01-01                  27,3                   23,9   \n",
       "1  2015-01-02                 27,02                   24,5   \n",
       "\n",
       "  Temperatura Maxima (C) Precipitacao (mm)  Final de Semana  \\\n",
       "0                   32,5                 0              0.0   \n",
       "1                   33,5                 0              0.0   \n",
       "\n",
       "   Consumo de cerveja (litros)  \n",
       "0                       25.461  \n",
       "1                       28.972  "
      ]
     },
     "execution_count": 2,
     "metadata": {},
     "output_type": "execute_result"
    }
   ],
   "source": [
    "df = pd.read_csv('Consumo_cerveja.csv')\n",
    "df.head(2)"
   ]
  },
  {
   "cell_type": "code",
   "execution_count": 3,
   "metadata": {
    "scrolled": false
   },
   "outputs": [
    {
     "data": {
      "text/html": [
       "<div>\n",
       "<style scoped>\n",
       "    .dataframe tbody tr th:only-of-type {\n",
       "        vertical-align: middle;\n",
       "    }\n",
       "\n",
       "    .dataframe tbody tr th {\n",
       "        vertical-align: top;\n",
       "    }\n",
       "\n",
       "    .dataframe thead th {\n",
       "        text-align: right;\n",
       "    }\n",
       "</style>\n",
       "<table border=\"1\" class=\"dataframe\">\n",
       "  <thead>\n",
       "    <tr style=\"text-align: right;\">\n",
       "      <th></th>\n",
       "      <th>Data</th>\n",
       "      <th>Temperatura Media (C)</th>\n",
       "      <th>Temperatura Minima (C)</th>\n",
       "      <th>Temperatura Maxima (C)</th>\n",
       "      <th>Precipitacao (mm)</th>\n",
       "      <th>Final de Semana</th>\n",
       "      <th>Consumo de cerveja (litros)</th>\n",
       "    </tr>\n",
       "  </thead>\n",
       "  <tbody>\n",
       "    <tr>\n",
       "      <th>939</th>\n",
       "      <td>NaN</td>\n",
       "      <td>NaN</td>\n",
       "      <td>NaN</td>\n",
       "      <td>NaN</td>\n",
       "      <td>NaN</td>\n",
       "      <td>NaN</td>\n",
       "      <td>NaN</td>\n",
       "    </tr>\n",
       "    <tr>\n",
       "      <th>940</th>\n",
       "      <td>NaN</td>\n",
       "      <td>NaN</td>\n",
       "      <td>NaN</td>\n",
       "      <td>NaN</td>\n",
       "      <td>NaN</td>\n",
       "      <td>NaN</td>\n",
       "      <td>NaN</td>\n",
       "    </tr>\n",
       "  </tbody>\n",
       "</table>\n",
       "</div>"
      ],
      "text/plain": [
       "    Data Temperatura Media (C) Temperatura Minima (C) Temperatura Maxima (C)  \\\n",
       "939  NaN                   NaN                    NaN                    NaN   \n",
       "940  NaN                   NaN                    NaN                    NaN   \n",
       "\n",
       "    Precipitacao (mm)  Final de Semana  Consumo de cerveja (litros)  \n",
       "939               NaN              NaN                          NaN  \n",
       "940               NaN              NaN                          NaN  "
      ]
     },
     "execution_count": 3,
     "metadata": {},
     "output_type": "execute_result"
    }
   ],
   "source": [
    "df.tail(2)"
   ]
  },
  {
   "cell_type": "markdown",
   "metadata": {},
   "source": [
    "## 2. 전처리"
   ]
  },
  {
   "cell_type": "code",
   "execution_count": 4,
   "metadata": {},
   "outputs": [
    {
     "name": "stdout",
     "output_type": "stream",
     "text": [
      "<class 'pandas.core.frame.DataFrame'>\n",
      "RangeIndex: 941 entries, 0 to 940\n",
      "Data columns (total 7 columns):\n",
      "Data                           365 non-null object\n",
      "Temperatura Media (C)          365 non-null object\n",
      "Temperatura Minima (C)         365 non-null object\n",
      "Temperatura Maxima (C)         365 non-null object\n",
      "Precipitacao (mm)              365 non-null object\n",
      "Final de Semana                365 non-null float64\n",
      "Consumo de cerveja (litros)    365 non-null float64\n",
      "dtypes: float64(2), object(5)\n",
      "memory usage: 51.5+ KB\n"
     ]
    }
   ],
   "source": [
    "df.info()\n",
    "#Index : 941인데, non-null 갯수를 보면 분명 null값이 있다는 소리다."
   ]
  },
  {
   "cell_type": "code",
   "execution_count": 5,
   "metadata": {
    "scrolled": true
   },
   "outputs": [
    {
     "data": {
      "text/plain": [
       "Data                           576\n",
       "Temperatura Media (C)          576\n",
       "Temperatura Minima (C)         576\n",
       "Temperatura Maxima (C)         576\n",
       "Precipitacao (mm)              576\n",
       "Final de Semana                576\n",
       "Consumo de cerveja (litros)    576\n",
       "dtype: int64"
      ]
     },
     "execution_count": 5,
     "metadata": {},
     "output_type": "execute_result"
    }
   ],
   "source": [
    "df.isnull().sum()"
   ]
  },
  {
   "cell_type": "code",
   "execution_count": 6,
   "metadata": {
    "scrolled": true
   },
   "outputs": [
    {
     "data": {
      "text/plain": [
       "Data                           0\n",
       "Temperatura Media (C)          0\n",
       "Temperatura Minima (C)         0\n",
       "Temperatura Maxima (C)         0\n",
       "Precipitacao (mm)              0\n",
       "Final de Semana                0\n",
       "Consumo de cerveja (litros)    0\n",
       "dtype: int64"
      ]
     },
     "execution_count": 6,
     "metadata": {},
     "output_type": "execute_result"
    }
   ],
   "source": [
    "df.dropna(inplace=True)\n",
    "df.isnull().sum()"
   ]
  },
  {
   "cell_type": "code",
   "execution_count": 7,
   "metadata": {
    "scrolled": true
   },
   "outputs": [
    {
     "name": "stdout",
     "output_type": "stream",
     "text": [
      "Data                           datetime64[ns]\n",
      "Temperatura Media (C)                  object\n",
      "Temperatura Minima (C)                 object\n",
      "Temperatura Maxima (C)                 object\n",
      "Precipitacao (mm)                      object\n",
      "Final de Semana                       float64\n",
      "Consumo de cerveja (litros)           float64\n",
      "dtype: object\n"
     ]
    },
    {
     "data": {
      "text/html": [
       "<div>\n",
       "<style scoped>\n",
       "    .dataframe tbody tr th:only-of-type {\n",
       "        vertical-align: middle;\n",
       "    }\n",
       "\n",
       "    .dataframe tbody tr th {\n",
       "        vertical-align: top;\n",
       "    }\n",
       "\n",
       "    .dataframe thead th {\n",
       "        text-align: right;\n",
       "    }\n",
       "</style>\n",
       "<table border=\"1\" class=\"dataframe\">\n",
       "  <thead>\n",
       "    <tr style=\"text-align: right;\">\n",
       "      <th></th>\n",
       "      <th>Data</th>\n",
       "      <th>Temperatura Media (C)</th>\n",
       "      <th>Temperatura Minima (C)</th>\n",
       "      <th>Temperatura Maxima (C)</th>\n",
       "      <th>Precipitacao (mm)</th>\n",
       "      <th>Final de Semana</th>\n",
       "      <th>Consumo de cerveja (litros)</th>\n",
       "    </tr>\n",
       "  </thead>\n",
       "  <tbody>\n",
       "    <tr>\n",
       "      <th>0</th>\n",
       "      <td>2015-01-01</td>\n",
       "      <td>27,3</td>\n",
       "      <td>23,9</td>\n",
       "      <td>32,5</td>\n",
       "      <td>0</td>\n",
       "      <td>0.0</td>\n",
       "      <td>25.461</td>\n",
       "    </tr>\n",
       "    <tr>\n",
       "      <th>1</th>\n",
       "      <td>2015-01-02</td>\n",
       "      <td>27,02</td>\n",
       "      <td>24,5</td>\n",
       "      <td>33,5</td>\n",
       "      <td>0</td>\n",
       "      <td>0.0</td>\n",
       "      <td>28.972</td>\n",
       "    </tr>\n",
       "    <tr>\n",
       "      <th>2</th>\n",
       "      <td>2015-01-03</td>\n",
       "      <td>24,82</td>\n",
       "      <td>22,4</td>\n",
       "      <td>29,9</td>\n",
       "      <td>0</td>\n",
       "      <td>1.0</td>\n",
       "      <td>30.814</td>\n",
       "    </tr>\n",
       "    <tr>\n",
       "      <th>3</th>\n",
       "      <td>2015-01-04</td>\n",
       "      <td>23,98</td>\n",
       "      <td>21,5</td>\n",
       "      <td>28,6</td>\n",
       "      <td>1,2</td>\n",
       "      <td>1.0</td>\n",
       "      <td>29.799</td>\n",
       "    </tr>\n",
       "    <tr>\n",
       "      <th>4</th>\n",
       "      <td>2015-01-05</td>\n",
       "      <td>23,82</td>\n",
       "      <td>21</td>\n",
       "      <td>28,3</td>\n",
       "      <td>0</td>\n",
       "      <td>0.0</td>\n",
       "      <td>28.900</td>\n",
       "    </tr>\n",
       "  </tbody>\n",
       "</table>\n",
       "</div>"
      ],
      "text/plain": [
       "        Data Temperatura Media (C) Temperatura Minima (C)  \\\n",
       "0 2015-01-01                  27,3                   23,9   \n",
       "1 2015-01-02                 27,02                   24,5   \n",
       "2 2015-01-03                 24,82                   22,4   \n",
       "3 2015-01-04                 23,98                   21,5   \n",
       "4 2015-01-05                 23,82                     21   \n",
       "\n",
       "  Temperatura Maxima (C) Precipitacao (mm)  Final de Semana  \\\n",
       "0                   32,5                 0              0.0   \n",
       "1                   33,5                 0              0.0   \n",
       "2                   29,9                 0              1.0   \n",
       "3                   28,6               1,2              1.0   \n",
       "4                   28,3                 0              0.0   \n",
       "\n",
       "   Consumo de cerveja (litros)  \n",
       "0                       25.461  \n",
       "1                       28.972  \n",
       "2                       30.814  \n",
       "3                       29.799  \n",
       "4                       28.900  "
      ]
     },
     "execution_count": 7,
     "metadata": {},
     "output_type": "execute_result"
    }
   ],
   "source": [
    "#날짜 컬럼 datetime 변환\n",
    "df['Data'] = pd.to_datetime(df['Data'], format='%Y-%m-%d')\n",
    "#format YYMMDD 변환 가능\n",
    "\n",
    "print(df.dtypes)\n",
    "df.head()"
   ]
  },
  {
   "cell_type": "code",
   "execution_count": 8,
   "metadata": {},
   "outputs": [],
   "source": [
    "# ,를 .으로\n",
    "df.replace(regex=True, to_replace=',',value='.', inplace=True)"
   ]
  },
  {
   "cell_type": "code",
   "execution_count": 9,
   "metadata": {},
   "outputs": [],
   "source": [
    "# object -> numeric\n",
    "df['Temperatura Media (C)']=pd.to_numeric(df['Temperatura Media (C)'])\n",
    "df['Temperatura Maxima (C)']=pd.to_numeric(df['Temperatura Maxima (C)'])\n",
    "df['Temperatura Minima (C)']=pd.to_numeric(df['Temperatura Minima (C)'])\n",
    "df['Precipitacao (mm)'] = pd.to_numeric(df['Precipitacao (mm)'])"
   ]
  },
  {
   "cell_type": "code",
   "execution_count": 10,
   "metadata": {
    "scrolled": false
   },
   "outputs": [
    {
     "name": "stdout",
     "output_type": "stream",
     "text": [
      "Data                           datetime64[ns]\n",
      "Temperatura Media (C)                 float64\n",
      "Temperatura Minima (C)                float64\n",
      "Temperatura Maxima (C)                float64\n",
      "Precipitacao (mm)                     float64\n",
      "Final de Semana                       float64\n",
      "Consumo de cerveja (litros)           float64\n",
      "dtype: object\n"
     ]
    },
    {
     "data": {
      "text/html": [
       "<div>\n",
       "<style scoped>\n",
       "    .dataframe tbody tr th:only-of-type {\n",
       "        vertical-align: middle;\n",
       "    }\n",
       "\n",
       "    .dataframe tbody tr th {\n",
       "        vertical-align: top;\n",
       "    }\n",
       "\n",
       "    .dataframe thead th {\n",
       "        text-align: right;\n",
       "    }\n",
       "</style>\n",
       "<table border=\"1\" class=\"dataframe\">\n",
       "  <thead>\n",
       "    <tr style=\"text-align: right;\">\n",
       "      <th></th>\n",
       "      <th>Data</th>\n",
       "      <th>Temperatura Media (C)</th>\n",
       "      <th>Temperatura Minima (C)</th>\n",
       "      <th>Temperatura Maxima (C)</th>\n",
       "      <th>Precipitacao (mm)</th>\n",
       "      <th>Final de Semana</th>\n",
       "      <th>Consumo de cerveja (litros)</th>\n",
       "    </tr>\n",
       "  </thead>\n",
       "  <tbody>\n",
       "    <tr>\n",
       "      <th>0</th>\n",
       "      <td>2015-01-01</td>\n",
       "      <td>27.30</td>\n",
       "      <td>23.9</td>\n",
       "      <td>32.5</td>\n",
       "      <td>0.0</td>\n",
       "      <td>0.0</td>\n",
       "      <td>25.461</td>\n",
       "    </tr>\n",
       "    <tr>\n",
       "      <th>1</th>\n",
       "      <td>2015-01-02</td>\n",
       "      <td>27.02</td>\n",
       "      <td>24.5</td>\n",
       "      <td>33.5</td>\n",
       "      <td>0.0</td>\n",
       "      <td>0.0</td>\n",
       "      <td>28.972</td>\n",
       "    </tr>\n",
       "  </tbody>\n",
       "</table>\n",
       "</div>"
      ],
      "text/plain": [
       "        Data  Temperatura Media (C)  Temperatura Minima (C)  \\\n",
       "0 2015-01-01                  27.30                    23.9   \n",
       "1 2015-01-02                  27.02                    24.5   \n",
       "\n",
       "   Temperatura Maxima (C)  Precipitacao (mm)  Final de Semana  \\\n",
       "0                    32.5                0.0              0.0   \n",
       "1                    33.5                0.0              0.0   \n",
       "\n",
       "   Consumo de cerveja (litros)  \n",
       "0                       25.461  \n",
       "1                       28.972  "
      ]
     },
     "execution_count": 10,
     "metadata": {},
     "output_type": "execute_result"
    }
   ],
   "source": [
    "print(df.dtypes)\n",
    "df.head(2)"
   ]
  },
  {
   "cell_type": "code",
   "execution_count": 11,
   "metadata": {},
   "outputs": [
    {
     "data": {
      "text/html": [
       "<div>\n",
       "<style scoped>\n",
       "    .dataframe tbody tr th:only-of-type {\n",
       "        vertical-align: middle;\n",
       "    }\n",
       "\n",
       "    .dataframe tbody tr th {\n",
       "        vertical-align: top;\n",
       "    }\n",
       "\n",
       "    .dataframe thead th {\n",
       "        text-align: right;\n",
       "    }\n",
       "</style>\n",
       "<table border=\"1\" class=\"dataframe\">\n",
       "  <thead>\n",
       "    <tr style=\"text-align: right;\">\n",
       "      <th></th>\n",
       "      <th>Temperatura Media (C)</th>\n",
       "      <th>Temperatura Minima (C)</th>\n",
       "      <th>Temperatura Maxima (C)</th>\n",
       "      <th>Precipitacao (mm)</th>\n",
       "      <th>Final de Semana</th>\n",
       "      <th>Consumo de cerveja (litros)</th>\n",
       "    </tr>\n",
       "    <tr>\n",
       "      <th>Data</th>\n",
       "      <th></th>\n",
       "      <th></th>\n",
       "      <th></th>\n",
       "      <th></th>\n",
       "      <th></th>\n",
       "      <th></th>\n",
       "    </tr>\n",
       "  </thead>\n",
       "  <tbody>\n",
       "    <tr>\n",
       "      <th>2015-01-01</th>\n",
       "      <td>27.30</td>\n",
       "      <td>23.9</td>\n",
       "      <td>32.5</td>\n",
       "      <td>0.0</td>\n",
       "      <td>0.0</td>\n",
       "      <td>25.461</td>\n",
       "    </tr>\n",
       "    <tr>\n",
       "      <th>2015-01-02</th>\n",
       "      <td>27.02</td>\n",
       "      <td>24.5</td>\n",
       "      <td>33.5</td>\n",
       "      <td>0.0</td>\n",
       "      <td>0.0</td>\n",
       "      <td>28.972</td>\n",
       "    </tr>\n",
       "    <tr>\n",
       "      <th>2015-01-03</th>\n",
       "      <td>24.82</td>\n",
       "      <td>22.4</td>\n",
       "      <td>29.9</td>\n",
       "      <td>0.0</td>\n",
       "      <td>1.0</td>\n",
       "      <td>30.814</td>\n",
       "    </tr>\n",
       "    <tr>\n",
       "      <th>2015-01-04</th>\n",
       "      <td>23.98</td>\n",
       "      <td>21.5</td>\n",
       "      <td>28.6</td>\n",
       "      <td>1.2</td>\n",
       "      <td>1.0</td>\n",
       "      <td>29.799</td>\n",
       "    </tr>\n",
       "    <tr>\n",
       "      <th>2015-01-05</th>\n",
       "      <td>23.82</td>\n",
       "      <td>21.0</td>\n",
       "      <td>28.3</td>\n",
       "      <td>0.0</td>\n",
       "      <td>0.0</td>\n",
       "      <td>28.900</td>\n",
       "    </tr>\n",
       "  </tbody>\n",
       "</table>\n",
       "</div>"
      ],
      "text/plain": [
       "            Temperatura Media (C)  Temperatura Minima (C)  \\\n",
       "Data                                                        \n",
       "2015-01-01                  27.30                    23.9   \n",
       "2015-01-02                  27.02                    24.5   \n",
       "2015-01-03                  24.82                    22.4   \n",
       "2015-01-04                  23.98                    21.5   \n",
       "2015-01-05                  23.82                    21.0   \n",
       "\n",
       "            Temperatura Maxima (C)  Precipitacao (mm)  Final de Semana  \\\n",
       "Data                                                                     \n",
       "2015-01-01                    32.5                0.0              0.0   \n",
       "2015-01-02                    33.5                0.0              0.0   \n",
       "2015-01-03                    29.9                0.0              1.0   \n",
       "2015-01-04                    28.6                1.2              1.0   \n",
       "2015-01-05                    28.3                0.0              0.0   \n",
       "\n",
       "            Consumo de cerveja (litros)  \n",
       "Data                                     \n",
       "2015-01-01                       25.461  \n",
       "2015-01-02                       28.972  \n",
       "2015-01-03                       30.814  \n",
       "2015-01-04                       29.799  \n",
       "2015-01-05                       28.900  "
      ]
     },
     "execution_count": 11,
     "metadata": {},
     "output_type": "execute_result"
    }
   ],
   "source": [
    "# df.set_index(df['Data'], inplace=True) 이렇게하면 컬럼은 그대로 있음\n",
    "# 아래 형태로. 컬럼 명만 지정해주면 됨\n",
    "df.set_index('Data', inplace=True) \n",
    "df.head()"
   ]
  },
  {
   "cell_type": "code",
   "execution_count": 12,
   "metadata": {
    "scrolled": true
   },
   "outputs": [
    {
     "data": {
      "text/plain": [
       "<matplotlib.axes._subplots.AxesSubplot at 0x22e64531780>"
      ]
     },
     "execution_count": 12,
     "metadata": {},
     "output_type": "execute_result"
    },
    {
     "data": {
      "image/png": "[encoded data removed]",
      "text/plain": [
       "<Figure size 432x288 with 1 Axes>"
      ]
     },
     "metadata": {},
     "output_type": "display_data"
    }
   ],
   "source": [
    "df['Consumo de cerveja (litros)'].plot()"
   ]
  },
  {
   "cell_type": "code",
   "execution_count": 13,
   "metadata": {
    "scrolled": false
   },
   "outputs": [
    {
     "data": {
      "image/png": "[encoded data removed]",
      "text/plain": [
       "<Figure size 432x288 with 1 Axes>"
      ]
     },
     "metadata": {},
     "output_type": "display_data"
    }
   ],
   "source": [
    "plt.plot(df['Consumo de cerveja (litros)'])\n",
    "plt.grid()\n",
    "plt.show()\n",
    "plt.close()"
   ]
  },
  {
   "cell_type": "markdown",
   "metadata": {},
   "source": [
    "## 3. Train, Test set 분리"
   ]
  },
  {
   "cell_type": "markdown",
   "metadata": {},
   "source": [
    "train, test 분리 - scale - RNN"
   ]
  },
  {
   "cell_type": "code",
   "execution_count": 14,
   "metadata": {
    "scrolled": true
   },
   "outputs": [
    {
     "name": "stderr",
     "output_type": "stream",
     "text": [
      "C:\\Users\\user\\Anaconda3\\lib\\site-packages\\h5py\\__init__.py:36: FutureWarning: Conversion of the second argument of issubdtype from `float` to `np.floating` is deprecated. In future, it will be treated as `np.float64 == np.dtype(float).type`.\n",
      "  from ._conv import register_converters as _register_converters\n",
      "Using TensorFlow backend.\n"
     ]
    }
   ],
   "source": [
    "from sklearn.preprocessing import MinMaxScaler\n",
    "from sklearn.metrics import mean_squared_error\n",
    "from sklearn.model_selection import train_test_split\n",
    "import keras\n",
    "from keras.layers import RNN\n",
    "from keras.layers import LSTM\n",
    "from keras.models import Sequential\n",
    "from keras.layers import Dense\n",
    "import keras.backend as K\n",
    "from keras.callbacks import EarlyStopping\n",
    "from math import sqrt"
   ]
  },
  {
   "cell_type": "markdown",
   "metadata": {},
   "source": [
    "callback 딥 다이브"
   ]
  },
  {
   "cell_type": "code",
   "execution_count": 15,
   "metadata": {},
   "outputs": [],
   "source": [
    "# 손실 이력 클래스 정의\n",
    "class LossHistory(keras.callbacks.Callback):\n",
    "    def init(self):\n",
    "        self.losses = []\n",
    "        \n",
    "    def on_epoch_end(self, batch, logs={}): \n",
    "        self.losses.append(logs.get('loss'))"
   ]
  },
  {
   "cell_type": "code",
   "execution_count": 16,
   "metadata": {
    "scrolled": true
   },
   "outputs": [
    {
     "data": {
      "text/html": [
       "<div>\n",
       "<style scoped>\n",
       "    .dataframe tbody tr th:only-of-type {\n",
       "        vertical-align: middle;\n",
       "    }\n",
       "\n",
       "    .dataframe tbody tr th {\n",
       "        vertical-align: top;\n",
       "    }\n",
       "\n",
       "    .dataframe thead th {\n",
       "        text-align: right;\n",
       "    }\n",
       "</style>\n",
       "<table border=\"1\" class=\"dataframe\">\n",
       "  <thead>\n",
       "    <tr style=\"text-align: right;\">\n",
       "      <th></th>\n",
       "      <th>Temperatura Media (C)</th>\n",
       "      <th>Temperatura Minima (C)</th>\n",
       "      <th>Temperatura Maxima (C)</th>\n",
       "      <th>Precipitacao (mm)</th>\n",
       "      <th>Final de Semana</th>\n",
       "    </tr>\n",
       "    <tr>\n",
       "      <th>Data</th>\n",
       "      <th></th>\n",
       "      <th></th>\n",
       "      <th></th>\n",
       "      <th></th>\n",
       "      <th></th>\n",
       "    </tr>\n",
       "  </thead>\n",
       "  <tbody>\n",
       "    <tr>\n",
       "      <th>2015-01-01</th>\n",
       "      <td>27.30</td>\n",
       "      <td>23.9</td>\n",
       "      <td>32.5</td>\n",
       "      <td>0.0</td>\n",
       "      <td>0.0</td>\n",
       "    </tr>\n",
       "    <tr>\n",
       "      <th>2015-01-02</th>\n",
       "      <td>27.02</td>\n",
       "      <td>24.5</td>\n",
       "      <td>33.5</td>\n",
       "      <td>0.0</td>\n",
       "      <td>0.0</td>\n",
       "    </tr>\n",
       "  </tbody>\n",
       "</table>\n",
       "</div>"
      ],
      "text/plain": [
       "            Temperatura Media (C)  Temperatura Minima (C)  \\\n",
       "Data                                                        \n",
       "2015-01-01                  27.30                    23.9   \n",
       "2015-01-02                  27.02                    24.5   \n",
       "\n",
       "            Temperatura Maxima (C)  Precipitacao (mm)  Final de Semana  \n",
       "Data                                                                    \n",
       "2015-01-01                    32.5                0.0              0.0  \n",
       "2015-01-02                    33.5                0.0              0.0  "
      ]
     },
     "execution_count": 16,
     "metadata": {},
     "output_type": "execute_result"
    }
   ],
   "source": [
    "x = df.drop(columns='Consumo de cerveja (litros)')\n",
    "y = df[['Consumo de cerveja (litros)']]\n",
    "x.head(2)"
   ]
  },
  {
   "cell_type": "code",
   "execution_count": 17,
   "metadata": {
    "scrolled": true
   },
   "outputs": [
    {
     "data": {
      "text/html": [
       "<div>\n",
       "<style scoped>\n",
       "    .dataframe tbody tr th:only-of-type {\n",
       "        vertical-align: middle;\n",
       "    }\n",
       "\n",
       "    .dataframe tbody tr th {\n",
       "        vertical-align: top;\n",
       "    }\n",
       "\n",
       "    .dataframe thead th {\n",
       "        text-align: right;\n",
       "    }\n",
       "</style>\n",
       "<table border=\"1\" class=\"dataframe\">\n",
       "  <thead>\n",
       "    <tr style=\"text-align: right;\">\n",
       "      <th></th>\n",
       "      <th>Consumo de cerveja (litros)</th>\n",
       "    </tr>\n",
       "    <tr>\n",
       "      <th>Data</th>\n",
       "      <th></th>\n",
       "    </tr>\n",
       "  </thead>\n",
       "  <tbody>\n",
       "    <tr>\n",
       "      <th>2015-01-01</th>\n",
       "      <td>25.461</td>\n",
       "    </tr>\n",
       "    <tr>\n",
       "      <th>2015-01-02</th>\n",
       "      <td>28.972</td>\n",
       "    </tr>\n",
       "  </tbody>\n",
       "</table>\n",
       "</div>"
      ],
      "text/plain": [
       "            Consumo de cerveja (litros)\n",
       "Data                                   \n",
       "2015-01-01                       25.461\n",
       "2015-01-02                       28.972"
      ]
     },
     "execution_count": 17,
     "metadata": {},
     "output_type": "execute_result"
    }
   ],
   "source": [
    "y.head(2)"
   ]
  },
  {
   "cell_type": "code",
   "execution_count": 18,
   "metadata": {},
   "outputs": [],
   "source": [
    "# 80%는 train데이터로, 나머지는 test 데이터로.\n",
    "X_train = x[:int(len(x) * 80 / 100)]\n",
    "y_train = y[:int(len(y) * 80 / 100)]\n",
    "X_test = x[int(len(x) * 80 / 100) :]\n",
    "y_test = y[int(len(y) * 80 / 100) :]"
   ]
  },
  {
   "cell_type": "code",
   "execution_count": 19,
   "metadata": {},
   "outputs": [
    {
     "data": {
      "text/html": [
       "<div>\n",
       "<style scoped>\n",
       "    .dataframe tbody tr th:only-of-type {\n",
       "        vertical-align: middle;\n",
       "    }\n",
       "\n",
       "    .dataframe tbody tr th {\n",
       "        vertical-align: top;\n",
       "    }\n",
       "\n",
       "    .dataframe thead th {\n",
       "        text-align: right;\n",
       "    }\n",
       "</style>\n",
       "<table border=\"1\" class=\"dataframe\">\n",
       "  <thead>\n",
       "    <tr style=\"text-align: right;\">\n",
       "      <th></th>\n",
       "      <th>Temperatura Media (C)</th>\n",
       "      <th>Temperatura Minima (C)</th>\n",
       "      <th>Temperatura Maxima (C)</th>\n",
       "      <th>Precipitacao (mm)</th>\n",
       "      <th>Final de Semana</th>\n",
       "    </tr>\n",
       "    <tr>\n",
       "      <th>Data</th>\n",
       "      <th></th>\n",
       "      <th></th>\n",
       "      <th></th>\n",
       "      <th></th>\n",
       "      <th></th>\n",
       "    </tr>\n",
       "  </thead>\n",
       "  <tbody>\n",
       "    <tr>\n",
       "      <th>2015-01-01</th>\n",
       "      <td>27.30</td>\n",
       "      <td>23.9</td>\n",
       "      <td>32.5</td>\n",
       "      <td>0.0</td>\n",
       "      <td>0.0</td>\n",
       "    </tr>\n",
       "    <tr>\n",
       "      <th>2015-01-02</th>\n",
       "      <td>27.02</td>\n",
       "      <td>24.5</td>\n",
       "      <td>33.5</td>\n",
       "      <td>0.0</td>\n",
       "      <td>0.0</td>\n",
       "    </tr>\n",
       "  </tbody>\n",
       "</table>\n",
       "</div>"
      ],
      "text/plain": [
       "            Temperatura Media (C)  Temperatura Minima (C)  \\\n",
       "Data                                                        \n",
       "2015-01-01                  27.30                    23.9   \n",
       "2015-01-02                  27.02                    24.5   \n",
       "\n",
       "            Temperatura Maxima (C)  Precipitacao (mm)  Final de Semana  \n",
       "Data                                                                    \n",
       "2015-01-01                    32.5                0.0              0.0  \n",
       "2015-01-02                    33.5                0.0              0.0  "
      ]
     },
     "execution_count": 19,
     "metadata": {},
     "output_type": "execute_result"
    }
   ],
   "source": [
    "X_train.head(2)"
   ]
  },
  {
   "cell_type": "code",
   "execution_count": 20,
   "metadata": {},
   "outputs": [
    {
     "data": {
      "text/html": [
       "<div>\n",
       "<style scoped>\n",
       "    .dataframe tbody tr th:only-of-type {\n",
       "        vertical-align: middle;\n",
       "    }\n",
       "\n",
       "    .dataframe tbody tr th {\n",
       "        vertical-align: top;\n",
       "    }\n",
       "\n",
       "    .dataframe thead th {\n",
       "        text-align: right;\n",
       "    }\n",
       "</style>\n",
       "<table border=\"1\" class=\"dataframe\">\n",
       "  <thead>\n",
       "    <tr style=\"text-align: right;\">\n",
       "      <th></th>\n",
       "      <th>Consumo de cerveja (litros)</th>\n",
       "    </tr>\n",
       "    <tr>\n",
       "      <th>Data</th>\n",
       "      <th></th>\n",
       "    </tr>\n",
       "  </thead>\n",
       "  <tbody>\n",
       "    <tr>\n",
       "      <th>2015-01-01</th>\n",
       "      <td>25.461</td>\n",
       "    </tr>\n",
       "    <tr>\n",
       "      <th>2015-01-02</th>\n",
       "      <td>28.972</td>\n",
       "    </tr>\n",
       "  </tbody>\n",
       "</table>\n",
       "</div>"
      ],
      "text/plain": [
       "            Consumo de cerveja (litros)\n",
       "Data                                   \n",
       "2015-01-01                       25.461\n",
       "2015-01-02                       28.972"
      ]
     },
     "execution_count": 20,
     "metadata": {},
     "output_type": "execute_result"
    }
   ],
   "source": [
    "y_train.head(2)"
   ]
  },
  {
   "cell_type": "markdown",
   "metadata": {},
   "source": [
    "## 4. Scale"
   ]
  },
  {
   "cell_type": "code",
   "execution_count": 21,
   "metadata": {},
   "outputs": [],
   "source": [
    "scaler_X = MinMaxScaler()\n",
    "scaler_y = MinMaxScaler()"
   ]
  },
  {
   "cell_type": "code",
   "execution_count": 22,
   "metadata": {},
   "outputs": [],
   "source": [
    "X_train = scaler_X.fit_transform(X_train)\n",
    "X_test = scaler_X.transform(X_test)"
   ]
  },
  {
   "cell_type": "code",
   "execution_count": 23,
   "metadata": {
    "scrolled": true
   },
   "outputs": [],
   "source": [
    "y_train = scaler_y.fit_transform(y_train)\n",
    "y_test = scaler_y.transform(y_test)"
   ]
  },
  {
   "cell_type": "markdown",
   "metadata": {},
   "source": [
    "## 5. RNN"
   ]
  },
  {
   "cell_type": "markdown",
   "metadata": {},
   "source": [
    "Window 함수를 사용하기 위해 df 형태로 변환"
   ]
  },
  {
   "cell_type": "code",
   "execution_count": 24,
   "metadata": {},
   "outputs": [],
   "source": [
    "X_train = pd.DataFrame(X_train, columns=x.columns, index=x.index[0:292])\n",
    "X_test = pd.DataFrame(X_test, columns=x.columns, index=x.index[292:])\n",
    "\n",
    "y_train = pd.DataFrame(y_train, columns=y.columns, index=y.index[0:292])\n",
    "y_test = pd.DataFrame(y_test, columns=y.columns, index=y.index[292:])"
   ]
  },
  {
   "cell_type": "code",
   "execution_count": 25,
   "metadata": {},
   "outputs": [],
   "source": [
    "def dataset_reshape(dataset, window_size=1):\n",
    "    data = []\n",
    "    for i in range(len(dataset) - window_size - 1):\n",
    "        change_data = dataset[i:(i+window_size)]  #한칸씩 밀려남.\n",
    "        data.append(np.array(change_data))       \n",
    "    return np.array(data)"
   ]
  },
  {
   "cell_type": "markdown",
   "metadata": {},
   "source": [
    "for using RNN, df 형태를 array형태로 변환"
   ]
  },
  {
   "cell_type": "markdown",
   "metadata": {},
   "source": [
    "* y_train = dataset_reshape(y_train['Consumo de cerveja (litros)'], 5) # (286, 5)\n",
    "* y_train = dataset_reshape(y_train, 5) # (286, 5, 1)\n",
    "* 형태비교"
   ]
  },
  {
   "cell_type": "code",
   "execution_count": 26,
   "metadata": {
    "scrolled": true
   },
   "outputs": [
    {
     "data": {
      "text/plain": [
       "Data\n",
       "2015-01-01    0.471221\n",
       "2015-01-02    0.620031\n",
       "2015-01-03    0.698101\n",
       "2015-01-04    0.655082\n",
       "2015-01-05    0.616979\n",
       "Name: Consumo de cerveja (litros), dtype: float64"
      ]
     },
     "execution_count": 26,
     "metadata": {},
     "output_type": "execute_result"
    }
   ],
   "source": [
    "y_train['Consumo de cerveja (litros)'][0:5]"
   ]
  },
  {
   "cell_type": "code",
   "execution_count": 27,
   "metadata": {},
   "outputs": [
    {
     "data": {
      "text/html": [
       "<div>\n",
       "<style scoped>\n",
       "    .dataframe tbody tr th:only-of-type {\n",
       "        vertical-align: middle;\n",
       "    }\n",
       "\n",
       "    .dataframe tbody tr th {\n",
       "        vertical-align: top;\n",
       "    }\n",
       "\n",
       "    .dataframe thead th {\n",
       "        text-align: right;\n",
       "    }\n",
       "</style>\n",
       "<table border=\"1\" class=\"dataframe\">\n",
       "  <thead>\n",
       "    <tr style=\"text-align: right;\">\n",
       "      <th></th>\n",
       "      <th>Consumo de cerveja (litros)</th>\n",
       "    </tr>\n",
       "    <tr>\n",
       "      <th>Data</th>\n",
       "      <th></th>\n",
       "    </tr>\n",
       "  </thead>\n",
       "  <tbody>\n",
       "    <tr>\n",
       "      <th>2015-01-01</th>\n",
       "      <td>0.471221</td>\n",
       "    </tr>\n",
       "    <tr>\n",
       "      <th>2015-01-02</th>\n",
       "      <td>0.620031</td>\n",
       "    </tr>\n",
       "    <tr>\n",
       "      <th>2015-01-03</th>\n",
       "      <td>0.698101</td>\n",
       "    </tr>\n",
       "    <tr>\n",
       "      <th>2015-01-04</th>\n",
       "      <td>0.655082</td>\n",
       "    </tr>\n",
       "    <tr>\n",
       "      <th>2015-01-05</th>\n",
       "      <td>0.616979</td>\n",
       "    </tr>\n",
       "  </tbody>\n",
       "</table>\n",
       "</div>"
      ],
      "text/plain": [
       "            Consumo de cerveja (litros)\n",
       "Data                                   \n",
       "2015-01-01                     0.471221\n",
       "2015-01-02                     0.620031\n",
       "2015-01-03                     0.698101\n",
       "2015-01-04                     0.655082\n",
       "2015-01-05                     0.616979"
      ]
     },
     "execution_count": 27,
     "metadata": {},
     "output_type": "execute_result"
    }
   ],
   "source": [
    "y_train[0:5]"
   ]
  },
  {
   "cell_type": "code",
   "execution_count": 28,
   "metadata": {},
   "outputs": [
    {
     "data": {
      "text/plain": [
       "array([0.4712215 , 0.62003052, 0.69810121, 0.6550818 , 0.61697889])"
      ]
     },
     "execution_count": 28,
     "metadata": {},
     "output_type": "execute_result"
    }
   ],
   "source": [
    "np.array(y_train['Consumo de cerveja (litros)'][0:5])"
   ]
  },
  {
   "cell_type": "code",
   "execution_count": 29,
   "metadata": {},
   "outputs": [
    {
     "data": {
      "text/plain": [
       "array([[0.4712215 ],\n",
       "       [0.62003052],\n",
       "       [0.69810121],\n",
       "       [0.6550818 ],\n",
       "       [0.61697889]])"
      ]
     },
     "execution_count": 29,
     "metadata": {},
     "output_type": "execute_result"
    }
   ],
   "source": [
    "np.array(y_train[0:5])"
   ]
  },
  {
   "cell_type": "code",
   "execution_count": 30,
   "metadata": {
    "scrolled": true
   },
   "outputs": [],
   "source": [
    "X_train = dataset_reshape(X_train, 5)   \n",
    "y_train = dataset_reshape(y_train['Consumo de cerveja (litros)'], 5) # (286, 5)\n",
    "# y_train = dataset_reshape(y_train, 5) # (286, 5, 1)\n",
    "\n",
    "X_test = dataset_reshape(X_test, 5) \n",
    "y_test = dataset_reshape(y_test['Consumo de cerveja (litros)'], 5) # (67, 5)\n",
    "# y_test = dataset_reshape(y_test, 5) # (67, 5, 1)\n",
    "\n",
    "# y_test = dataset_reshape(y_test, 5) 이렇게 안 한 이유는?\n",
    "## 차원이 달라진다. "
   ]
  },
  {
   "cell_type": "code",
   "execution_count": 31,
   "metadata": {},
   "outputs": [
    {
     "name": "stdout",
     "output_type": "stream",
     "text": [
      "(286, 5, 5)\n",
      "(286, 5)\n",
      "(67, 5, 5)\n",
      "(67, 5)\n"
     ]
    }
   ],
   "source": [
    "print(X_train.shape)\n",
    "print(y_train.shape)\n",
    "print(X_test.shape)\n",
    "print(y_test.shape)"
   ]
  },
  {
   "cell_type": "code",
   "execution_count": 32,
   "metadata": {},
   "outputs": [
    {
     "data": {
      "text/plain": [
       "array([[[0.90225564, 0.95683453, 0.81818182, 0.        , 0.        ],\n",
       "        [0.88471178, 1.        , 0.86363636, 0.        , 0.        ],\n",
       "        [0.74686717, 0.84892086, 0.7       , 0.        , 1.        ],\n",
       "        [0.69423559, 0.78417266, 0.64090909, 0.014068  , 1.        ],\n",
       "        [0.68421053, 0.74820144, 0.62727273, 0.        , 0.        ]],\n",
       "\n",
       "       [[0.88471178, 1.        , 0.86363636, 0.        , 0.        ],\n",
       "        [0.74686717, 0.84892086, 0.7       , 0.        , 1.        ],\n",
       "        [0.69423559, 0.78417266, 0.64090909, 0.014068  , 1.        ],\n",
       "        [0.68421053, 0.74820144, 0.62727273, 0.        , 0.        ],\n",
       "        [0.68170426, 0.68345324, 0.72727273, 0.14302462, 0.        ]],\n",
       "\n",
       "       [[0.74686717, 0.84892086, 0.7       , 0.        , 1.        ],\n",
       "        [0.69423559, 0.78417266, 0.64090909, 0.014068  , 1.        ],\n",
       "        [0.68421053, 0.74820144, 0.62727273, 0.        , 0.        ],\n",
       "        [0.68170426, 0.68345324, 0.72727273, 0.14302462, 0.        ],\n",
       "        [0.69548872, 0.64028777, 0.87272727, 0.        , 0.        ]],\n",
       "\n",
       "       ...,\n",
       "\n",
       "       [[0.60025063, 0.64748201, 0.70454545, 0.        , 1.        ],\n",
       "        [0.61779449, 0.60431655, 0.68636364, 0.        , 0.        ],\n",
       "        [0.53258145, 0.53956835, 0.59545455, 0.02813599, 0.        ],\n",
       "        [0.6716792 , 0.54676259, 0.63636364, 0.        , 0.        ],\n",
       "        [0.95363409, 0.5971223 , 0.96818182, 0.        , 0.        ]],\n",
       "\n",
       "       [[0.61779449, 0.60431655, 0.68636364, 0.        , 0.        ],\n",
       "        [0.53258145, 0.53956835, 0.59545455, 0.02813599, 0.        ],\n",
       "        [0.6716792 , 0.54676259, 0.63636364, 0.        , 0.        ],\n",
       "        [0.95363409, 0.5971223 , 0.96818182, 0.        , 0.        ],\n",
       "        [0.8358396 , 0.76978417, 0.96363636, 0.        , 0.        ]],\n",
       "\n",
       "       [[0.53258145, 0.53956835, 0.59545455, 0.02813599, 0.        ],\n",
       "        [0.6716792 , 0.54676259, 0.63636364, 0.        , 0.        ],\n",
       "        [0.95363409, 0.5971223 , 0.96818182, 0.        , 0.        ],\n",
       "        [0.8358396 , 0.76978417, 0.96363636, 0.        , 0.        ],\n",
       "        [0.52130326, 0.48201439, 0.66818182, 0.        , 1.        ]]])"
      ]
     },
     "execution_count": 32,
     "metadata": {},
     "output_type": "execute_result"
    }
   ],
   "source": [
    "X_train"
   ]
  },
  {
   "cell_type": "code",
   "execution_count": 33,
   "metadata": {},
   "outputs": [
    {
     "data": {
      "text/plain": [
       "array([[0.4712215 , 0.62003052, 0.69810121, 0.6550818 , 0.61697889],\n",
       "       [0.62003052, 0.69810121, 0.6550818 , 0.61697889, 0.58807324],\n",
       "       [0.69810121, 0.6550818 , 0.61697889, 0.58807324, 0.6522421 ],\n",
       "       ...,\n",
       "       [0.85415784, 0.50461982, 0.51623294, 0.52767653, 0.91201153],\n",
       "       [0.50461982, 0.51623294, 0.52767653, 0.91201153, 0.55285242],\n",
       "       [0.51623294, 0.52767653, 0.91201153, 0.55285242, 0.77659574]])"
      ]
     },
     "execution_count": 33,
     "metadata": {},
     "output_type": "execute_result"
    }
   ],
   "source": [
    "y_train"
   ]
  },
  {
   "cell_type": "code",
   "execution_count": 34,
   "metadata": {
    "scrolled": false
   },
   "outputs": [
    {
     "name": "stdout",
     "output_type": "stream",
     "text": [
      "Train on 286 samples, validate on 67 samples\n",
      "Epoch 1/90\n",
      " - 0s - loss: 0.0810 - acc: 0.2378 - val_loss: 0.0236 - val_acc: 0.3284\n",
      "Epoch 2/90\n",
      " - 0s - loss: 0.0231 - acc: 0.4580 - val_loss: 0.0185 - val_acc: 0.3881\n",
      "Epoch 3/90\n",
      " - 0s - loss: 0.0175 - acc: 0.5140 - val_loss: 0.0166 - val_acc: 0.5373\n",
      "Epoch 4/90\n",
      " - 0s - loss: 0.0163 - acc: 0.5420 - val_loss: 0.0157 - val_acc: 0.5522\n",
      "Epoch 5/90\n",
      " - 0s - loss: 0.0154 - acc: 0.5664 - val_loss: 0.0152 - val_acc: 0.5672\n",
      "Epoch 6/90\n",
      " - 0s - loss: 0.0149 - acc: 0.5769 - val_loss: 0.0149 - val_acc: 0.5672\n",
      "Epoch 7/90\n",
      " - 0s - loss: 0.0146 - acc: 0.5734 - val_loss: 0.0147 - val_acc: 0.5970\n",
      "Epoch 8/90\n",
      " - 0s - loss: 0.0144 - acc: 0.5594 - val_loss: 0.0145 - val_acc: 0.5970\n",
      "Epoch 9/90\n",
      " - 0s - loss: 0.0143 - acc: 0.5664 - val_loss: 0.0143 - val_acc: 0.5672\n",
      "Epoch 10/90\n",
      " - 0s - loss: 0.0141 - acc: 0.5629 - val_loss: 0.0143 - val_acc: 0.5075\n",
      "Epoch 11/90\n",
      " - 0s - loss: 0.0138 - acc: 0.5699 - val_loss: 0.0142 - val_acc: 0.5224\n",
      "Epoch 12/90\n",
      " - 0s - loss: 0.0134 - acc: 0.5874 - val_loss: 0.0139 - val_acc: 0.5373\n",
      "Epoch 13/90\n",
      " - 0s - loss: 0.0129 - acc: 0.5979 - val_loss: 0.0135 - val_acc: 0.5821\n",
      "Epoch 14/90\n",
      " - 0s - loss: 0.0127 - acc: 0.6084 - val_loss: 0.0132 - val_acc: 0.5821\n",
      "Epoch 15/90\n",
      " - 0s - loss: 0.0125 - acc: 0.6084 - val_loss: 0.0130 - val_acc: 0.5821\n",
      "Epoch 16/90\n",
      " - 0s - loss: 0.0124 - acc: 0.6189 - val_loss: 0.0129 - val_acc: 0.5970\n",
      "Epoch 17/90\n",
      " - 0s - loss: 0.0123 - acc: 0.6119 - val_loss: 0.0129 - val_acc: 0.5821\n",
      "Epoch 18/90\n",
      " - 0s - loss: 0.0122 - acc: 0.6224 - val_loss: 0.0129 - val_acc: 0.5672\n",
      "Epoch 19/90\n",
      " - 0s - loss: 0.0122 - acc: 0.6224 - val_loss: 0.0130 - val_acc: 0.5970\n",
      "Epoch 20/90\n",
      " - 0s - loss: 0.0121 - acc: 0.6154 - val_loss: 0.0131 - val_acc: 0.5970\n",
      "Epoch 21/90\n",
      " - 0s - loss: 0.0121 - acc: 0.6049 - val_loss: 0.0132 - val_acc: 0.5821\n",
      "Epoch 22/90\n",
      " - 0s - loss: 0.0121 - acc: 0.6084 - val_loss: 0.0131 - val_acc: 0.5821\n",
      "Epoch 23/90\n",
      " - 0s - loss: 0.0122 - acc: 0.5979 - val_loss: 0.0130 - val_acc: 0.5970\n",
      "Epoch 24/90\n",
      " - 0s - loss: 0.0123 - acc: 0.6014 - val_loss: 0.0128 - val_acc: 0.5821\n",
      "Epoch 25/90\n",
      " - 0s - loss: 0.0125 - acc: 0.6224 - val_loss: 0.0126 - val_acc: 0.5970\n",
      "Epoch 26/90\n",
      " - 0s - loss: 0.0128 - acc: 0.5909 - val_loss: 0.0126 - val_acc: 0.5373\n",
      "Epoch 27/90\n",
      " - 0s - loss: 0.0130 - acc: 0.5944 - val_loss: 0.0130 - val_acc: 0.5672\n",
      "Epoch 28/90\n",
      " - 0s - loss: 0.0130 - acc: 0.5909 - val_loss: 0.0134 - val_acc: 0.5672\n",
      "Epoch 29/90\n",
      " - 0s - loss: 0.0132 - acc: 0.5874 - val_loss: 0.0141 - val_acc: 0.5970\n",
      "Epoch 30/90\n",
      " - 0s - loss: 0.0135 - acc: 0.5909 - val_loss: 0.0153 - val_acc: 0.5970\n",
      "Epoch 31/90\n",
      " - 0s - loss: 0.0137 - acc: 0.5769 - val_loss: 0.0167 - val_acc: 0.5821\n",
      "Epoch 32/90\n",
      " - 0s - loss: 0.0133 - acc: 0.5804 - val_loss: 0.0170 - val_acc: 0.5522\n",
      "Epoch 33/90\n",
      " - 0s - loss: 0.0124 - acc: 0.6049 - val_loss: 0.0160 - val_acc: 0.5821\n",
      "Epoch 34/90\n",
      " - 0s - loss: 0.0117 - acc: 0.6329 - val_loss: 0.0147 - val_acc: 0.5821\n",
      "Epoch 35/90\n",
      " - 0s - loss: 0.0114 - acc: 0.6399 - val_loss: 0.0141 - val_acc: 0.5970\n",
      "Epoch 36/90\n",
      " - 0s - loss: 0.0115 - acc: 0.6224 - val_loss: 0.0141 - val_acc: 0.5970\n",
      "Epoch 37/90\n",
      " - 0s - loss: 0.0117 - acc: 0.6224 - val_loss: 0.0143 - val_acc: 0.5672\n",
      "Epoch 38/90\n",
      " - 0s - loss: 0.0119 - acc: 0.6049 - val_loss: 0.0145 - val_acc: 0.5373\n",
      "Epoch 39/90\n",
      " - 0s - loss: 0.0121 - acc: 0.6224 - val_loss: 0.0148 - val_acc: 0.5821\n",
      "Epoch 40/90\n",
      " - 0s - loss: 0.0124 - acc: 0.6329 - val_loss: 0.0153 - val_acc: 0.5821\n",
      "Epoch 41/90\n",
      " - 0s - loss: 0.0130 - acc: 0.6259 - val_loss: 0.0164 - val_acc: 0.5821\n",
      "Epoch 42/90\n",
      " - 0s - loss: 0.0136 - acc: 0.6119 - val_loss: 0.0179 - val_acc: 0.5672\n",
      "Epoch 43/90\n",
      " - 0s - loss: 0.0138 - acc: 0.6049 - val_loss: 0.0195 - val_acc: 0.5522\n",
      "Epoch 44/90\n",
      " - 0s - loss: 0.0133 - acc: 0.6154 - val_loss: 0.0190 - val_acc: 0.5224\n",
      "Epoch 45/90\n",
      " - 0s - loss: 0.0122 - acc: 0.6189 - val_loss: 0.0176 - val_acc: 0.5970\n",
      "Epoch 46/90\n",
      " - 0s - loss: 0.0115 - acc: 0.6538 - val_loss: 0.0161 - val_acc: 0.5821\n",
      "Epoch 47/90\n",
      " - 0s - loss: 0.0114 - acc: 0.6294 - val_loss: 0.0156 - val_acc: 0.5672\n",
      "Epoch 48/90\n",
      " - 0s - loss: 0.0117 - acc: 0.6224 - val_loss: 0.0160 - val_acc: 0.5970\n",
      "Epoch 49/90\n",
      " - 0s - loss: 0.0123 - acc: 0.6399 - val_loss: 0.0172 - val_acc: 0.5970\n",
      "Epoch 50/90\n",
      " - 0s - loss: 0.0130 - acc: 0.6434 - val_loss: 0.0187 - val_acc: 0.5970\n",
      "Epoch 51/90\n",
      " - 0s - loss: 0.0133 - acc: 0.6469 - val_loss: 0.0204 - val_acc: 0.5970\n",
      "Epoch 52/90\n",
      " - 0s - loss: 0.0132 - acc: 0.6189 - val_loss: 0.0205 - val_acc: 0.6119\n",
      "Epoch 53/90\n",
      " - 0s - loss: 0.0127 - acc: 0.6119 - val_loss: 0.0208 - val_acc: 0.5821\n",
      "Epoch 54/90\n",
      " - 0s - loss: 0.0124 - acc: 0.6189 - val_loss: 0.0197 - val_acc: 0.6269\n",
      "Epoch 55/90\n",
      " - 0s - loss: 0.0121 - acc: 0.6154 - val_loss: 0.0189 - val_acc: 0.6119\n",
      "Epoch 56/90\n",
      " - 0s - loss: 0.0118 - acc: 0.6329 - val_loss: 0.0197 - val_acc: 0.5970\n",
      "Epoch 57/90\n",
      " - 0s - loss: 0.0117 - acc: 0.6259 - val_loss: 0.0183 - val_acc: 0.5970\n",
      "Epoch 58/90\n",
      " - 0s - loss: 0.0115 - acc: 0.6224 - val_loss: 0.0193 - val_acc: 0.6119\n",
      "Epoch 59/90\n",
      " - 0s - loss: 0.0113 - acc: 0.6294 - val_loss: 0.0185 - val_acc: 0.6119\n",
      "Epoch 60/90\n",
      " - 0s - loss: 0.0111 - acc: 0.6224 - val_loss: 0.0179 - val_acc: 0.6119\n",
      "Epoch 61/90\n",
      " - 0s - loss: 0.0108 - acc: 0.6294 - val_loss: 0.0177 - val_acc: 0.5970\n",
      "Epoch 62/90\n",
      " - 0s - loss: 0.0106 - acc: 0.6189 - val_loss: 0.0170 - val_acc: 0.5970\n",
      "Epoch 63/90\n",
      " - 0s - loss: 0.0104 - acc: 0.6259 - val_loss: 0.0167 - val_acc: 0.5970\n",
      "Epoch 64/90\n",
      " - 0s - loss: 0.0104 - acc: 0.6364 - val_loss: 0.0167 - val_acc: 0.5970\n",
      "Epoch 65/90\n",
      " - 0s - loss: 0.0103 - acc: 0.6364 - val_loss: 0.0166 - val_acc: 0.5970\n",
      "Epoch 66/90\n",
      " - 0s - loss: 0.0103 - acc: 0.6364 - val_loss: 0.0166 - val_acc: 0.5970\n",
      "Epoch 67/90\n",
      " - 0s - loss: 0.0103 - acc: 0.6399 - val_loss: 0.0166 - val_acc: 0.5970\n",
      "Epoch 68/90\n",
      " - 0s - loss: 0.0103 - acc: 0.6364 - val_loss: 0.0166 - val_acc: 0.5970\n",
      "Epoch 69/90\n",
      " - 0s - loss: 0.0103 - acc: 0.6364 - val_loss: 0.0166 - val_acc: 0.5970\n",
      "Epoch 70/90\n",
      " - 0s - loss: 0.0103 - acc: 0.6364 - val_loss: 0.0166 - val_acc: 0.5970\n",
      "Epoch 71/90\n",
      " - 0s - loss: 0.0103 - acc: 0.6364 - val_loss: 0.0166 - val_acc: 0.5970\n",
      "Epoch 72/90\n",
      " - 0s - loss: 0.0103 - acc: 0.6364 - val_loss: 0.0167 - val_acc: 0.5970\n",
      "Epoch 73/90\n",
      " - 0s - loss: 0.0103 - acc: 0.6364 - val_loss: 0.0167 - val_acc: 0.5970\n",
      "Epoch 74/90\n",
      " - 0s - loss: 0.0103 - acc: 0.6364 - val_loss: 0.0167 - val_acc: 0.5970\n",
      "Epoch 75/90\n",
      " - 0s - loss: 0.0103 - acc: 0.6364 - val_loss: 0.0167 - val_acc: 0.5970\n",
      "Epoch 76/90\n",
      " - 0s - loss: 0.0103 - acc: 0.6399 - val_loss: 0.0167 - val_acc: 0.5970\n",
      "Epoch 77/90\n",
      " - 0s - loss: 0.0103 - acc: 0.6434 - val_loss: 0.0167 - val_acc: 0.5970\n",
      "Epoch 78/90\n",
      " - 0s - loss: 0.0103 - acc: 0.6434 - val_loss: 0.0167 - val_acc: 0.5970\n",
      "Epoch 79/90\n",
      " - 0s - loss: 0.0103 - acc: 0.6434 - val_loss: 0.0168 - val_acc: 0.5970\n",
      "Epoch 80/90\n",
      " - 0s - loss: 0.0103 - acc: 0.6469 - val_loss: 0.0168 - val_acc: 0.5970\n",
      "Epoch 81/90\n",
      " - 0s - loss: 0.0102 - acc: 0.6434 - val_loss: 0.0168 - val_acc: 0.5970\n",
      "Epoch 82/90\n",
      " - 0s - loss: 0.0102 - acc: 0.6434 - val_loss: 0.0168 - val_acc: 0.5970\n",
      "Epoch 83/90\n",
      " - 0s - loss: 0.0102 - acc: 0.6434 - val_loss: 0.0169 - val_acc: 0.5970\n",
      "Epoch 84/90\n",
      " - 0s - loss: 0.0102 - acc: 0.6434 - val_loss: 0.0169 - val_acc: 0.5970\n",
      "Epoch 85/90\n",
      " - 0s - loss: 0.0102 - acc: 0.6434 - val_loss: 0.0169 - val_acc: 0.5970\n",
      "Epoch 86/90\n",
      " - 0s - loss: 0.0102 - acc: 0.6434 - val_loss: 0.0169 - val_acc: 0.5970\n",
      "Epoch 87/90\n",
      " - 0s - loss: 0.0102 - acc: 0.6434 - val_loss: 0.0169 - val_acc: 0.5970\n",
      "Epoch 88/90\n",
      " - 0s - loss: 0.0102 - acc: 0.6434 - val_loss: 0.0169 - val_acc: 0.6119\n",
      "Epoch 89/90\n",
      " - 0s - loss: 0.0102 - acc: 0.6434 - val_loss: 0.0170 - val_acc: 0.6119\n",
      "Epoch 90/90\n",
      " - 0s - loss: 0.0102 - acc: 0.6434 - val_loss: 0.0170 - val_acc: 0.6119\n"
     ]
    }
   ],
   "source": [
    "from keras.models import Sequential\n",
    "from keras.layers import SimpleRNN, Dense\n",
    "\n",
    "#np.random.seed(0)\n",
    "model = Sequential()\n",
    "model.add(SimpleRNN(100, input_shape=(5, 5)))\n",
    "model.add(Dense(5, activation=\"linear\"))\n",
    "model.add(Dense(5, activation=\"relu\"))\n",
    "model.compile(loss='mse', optimizer='adam', metrics=['accuracy'])\n",
    "\n",
    "history = LossHistory() \n",
    "history.init()\n",
    "\n",
    "hist = model.fit(X_train, y_train, epochs=90,batch_size=10, verbose=2,shuffle=False, callbacks=[history], validation_data=(X_test,y_test))\n",
    "# print(\"Training Done! loss : %.4f  val_loss : %.4f\"%(hist.history['loss'][-1],hist.history['val_loss'][-1]))"
   ]
  },
  {
   "cell_type": "markdown",
   "metadata": {},
   "source": [
    "## 6. 시각화 및 성능평가"
   ]
  },
  {
   "cell_type": "code",
   "execution_count": 35,
   "metadata": {
    "scrolled": true
   },
   "outputs": [
    {
     "name": "stderr",
     "output_type": "stream",
     "text": [
      "No handles with labels found to put in legend.\n"
     ]
    },
    {
     "data": {
      "image/png": "[encoded data removed]",
      "text/plain": [
       "<Figure size 720x504 with 1 Axes>"
      ]
     },
     "metadata": {},
     "output_type": "display_data"
    }
   ],
   "source": [
    "plt.figure(figsize=(10,7))\n",
    "plt.plot(hist.history['loss'])\n",
    "plt.plot(hist.history['val_loss'])\n",
    "plt.legend()\n",
    "#plt.ylim(0.02,0.15)\n",
    "\n",
    "plt.show()"
   ]
  },
  {
   "cell_type": "code",
   "execution_count": 36,
   "metadata": {
    "scrolled": true
   },
   "outputs": [
    {
     "data": {
      "image/png": "[encoded data removed]",
      "text/plain": [
       "<Figure size 432x288 with 1 Axes>"
      ]
     },
     "metadata": {},
     "output_type": "display_data"
    },
    {
     "name": "stdout",
     "output_type": "stream",
     "text": [
      "67/67 [==============================] - 0s 45us/step\n",
      "Test RMSE: 0.130\n"
     ]
    }
   ],
   "source": [
    "# 학습 시각화\n",
    "%matplotlib inline\n",
    "import matplotlib.pyplot as plt\n",
    "\n",
    "plt.plot(history.losses)\n",
    "plt.ylabel('loss')\n",
    "plt.xlabel('epoch')\n",
    "plt.legend(['train'], loc='upper left')\n",
    "plt.show()\n",
    "\n",
    "model.evaluate(X_test, y_test)\n",
    "yhat = model.predict(X_test)\n",
    "rmse = sqrt(mean_squared_error(y_test, yhat))\n",
    "print('Test RMSE: %.3f' % rmse)"
   ]
  },
  {
   "cell_type": "code",
   "execution_count": 37,
   "metadata": {},
   "outputs": [
    {
     "data": {
      "image/png": "[encoded data removed]",
      "text/plain": [
       "<Figure size 432x288 with 2 Axes>"
      ]
     },
     "metadata": {},
     "output_type": "display_data"
    }
   ],
   "source": [
    "import matplotlib.pyplot as plt\n",
    "\n",
    "fig, loss_ax = plt.subplots()\n",
    "\n",
    "\n",
    "y_test_tuple = (y_test[0], y_test[1], y_test[2], y_test[3], \n",
    "                y_test[4], y_test[5], y_test[6])\n",
    "y_hat_tuple = (yhat[0], yhat[1], yhat[2], \n",
    "               yhat[3], yhat[4], yhat[5], yhat[6])\n",
    "acc_ax = loss_ax.twinx()\n",
    "y_value = y['Consumo de cerveja (litros)'][-len(yhat):]\n",
    "loss_ax.plot(np.concatenate(y_test_tuple), 'b', label='act')\n",
    "# loss_ax.plot(hist.history['loss'], 'y', label='train loss')\n",
    "loss_ax.plot(np.concatenate(y_hat_tuple), 'r', label='pred')\n",
    "\n",
    "# acc_ax.legend(loc='lower left')\n",
    "loss_ax.legend(loc='upper right')\n",
    "\n",
    "plt.show()\n"
   ]
  }
 ],
 "metadata": {
  "kernelspec": {
   "display_name": "Python 3",
   "language": "python",
   "name": "python3"
  },
  "language_info": {
   "codemirror_mode": {
    "name": "ipython",
    "version": 3
   },
   "file_extension": ".py",
   "mimetype": "text/x-python",
   "name": "python",
   "nbconvert_exporter": "python",
   "pygments_lexer": "ipython3",
   "version": "3.6.5"
  }
 },
 "nbformat": 4,
 "nbformat_minor": 2
}
