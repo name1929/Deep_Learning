{
 "cells": [
  {
   "cell_type": "markdown",
   "metadata": {},
   "source": [
    "## 태양광 LSTM/ 충전시간발전량 예측하기"
   ]
  },
  {
   "cell_type": "code",
   "execution_count": 1,
   "metadata": {},
   "outputs": [],
   "source": [
    "# Dataset : 믿음태양광발전소 데이터 + 기상청데이터"
   ]
  },
  {
   "cell_type": "code",
   "execution_count": 2,
   "metadata": {},
   "outputs": [],
   "source": [
    "# 충전시간발전량 : y\n",
    "# 다른 특성은 : X\n",
    "# 여러가지 feature 바탕으로 충전시간발전량 예측\n",
    "# LSTM 활용 on keras\n"
   ]
  },
  {
   "cell_type": "code",
   "execution_count": 3,
   "metadata": {},
   "outputs": [],
   "source": [
    "import pandas as pd\n",
    "import numpy as np\n",
    "import matplotlib.pyplot as plt\n",
    "%matplotlib inline"
   ]
  },
  {
   "cell_type": "code",
   "execution_count": 4,
   "metadata": {},
   "outputs": [],
   "source": [
    "sun_weather=pd.read_csv('sun_weather.csv')"
   ]
  },
  {
   "cell_type": "code",
   "execution_count": 5,
   "metadata": {
    "scrolled": true
   },
   "outputs": [
    {
     "data": {
      "text/html": [
       "<div>\n",
       "<style scoped>\n",
       "    .dataframe tbody tr th:only-of-type {\n",
       "        vertical-align: middle;\n",
       "    }\n",
       "\n",
       "    .dataframe tbody tr th {\n",
       "        vertical-align: top;\n",
       "    }\n",
       "\n",
       "    .dataframe thead th {\n",
       "        text-align: right;\n",
       "    }\n",
       "</style>\n",
       "<table border=\"1\" class=\"dataframe\">\n",
       "  <thead>\n",
       "    <tr style=\"text-align: right;\">\n",
       "      <th></th>\n",
       "      <th>날짜</th>\n",
       "      <th>5Hr</th>\n",
       "      <th>6Hr</th>\n",
       "      <th>7Hr</th>\n",
       "      <th>8Hr</th>\n",
       "      <th>9Hr</th>\n",
       "      <th>10Hr</th>\n",
       "      <th>11Hr</th>\n",
       "      <th>12Hr</th>\n",
       "      <th>13Hr</th>\n",
       "      <th>...</th>\n",
       "      <th>기온11hr</th>\n",
       "      <th>기온12hr</th>\n",
       "      <th>기온13hr</th>\n",
       "      <th>기온14hr</th>\n",
       "      <th>기온15hr</th>\n",
       "      <th>기온16hr</th>\n",
       "      <th>기온17hr</th>\n",
       "      <th>기온18hr</th>\n",
       "      <th>기온19hr</th>\n",
       "      <th>기온20hr</th>\n",
       "    </tr>\n",
       "  </thead>\n",
       "  <tbody>\n",
       "    <tr>\n",
       "      <th>0</th>\n",
       "      <td>160701</td>\n",
       "      <td>0.0</td>\n",
       "      <td>2.5</td>\n",
       "      <td>36.9</td>\n",
       "      <td>44.4</td>\n",
       "      <td>29.2</td>\n",
       "      <td>59.3</td>\n",
       "      <td>33.9</td>\n",
       "      <td>9.2</td>\n",
       "      <td>28.4</td>\n",
       "      <td>...</td>\n",
       "      <td>24.100000</td>\n",
       "      <td>23.6</td>\n",
       "      <td>24.299999</td>\n",
       "      <td>24.200001</td>\n",
       "      <td>24.700001</td>\n",
       "      <td>24.500000</td>\n",
       "      <td>24.200001</td>\n",
       "      <td>22.799999</td>\n",
       "      <td>22.400000</td>\n",
       "      <td>22.200001</td>\n",
       "    </tr>\n",
       "    <tr>\n",
       "      <th>1</th>\n",
       "      <td>160702</td>\n",
       "      <td>0.0</td>\n",
       "      <td>7.3</td>\n",
       "      <td>24.4</td>\n",
       "      <td>30.1</td>\n",
       "      <td>31.4</td>\n",
       "      <td>57.0</td>\n",
       "      <td>1.1</td>\n",
       "      <td>1.8</td>\n",
       "      <td>5.9</td>\n",
       "      <td>...</td>\n",
       "      <td>20.299999</td>\n",
       "      <td>21.0</td>\n",
       "      <td>21.000000</td>\n",
       "      <td>20.400000</td>\n",
       "      <td>20.400000</td>\n",
       "      <td>20.600000</td>\n",
       "      <td>19.900000</td>\n",
       "      <td>20.700001</td>\n",
       "      <td>20.100000</td>\n",
       "      <td>20.000000</td>\n",
       "    </tr>\n",
       "    <tr>\n",
       "      <th>2</th>\n",
       "      <td>160703</td>\n",
       "      <td>0.0</td>\n",
       "      <td>0.0</td>\n",
       "      <td>14.0</td>\n",
       "      <td>16.9</td>\n",
       "      <td>39.7</td>\n",
       "      <td>17.1</td>\n",
       "      <td>10.4</td>\n",
       "      <td>53.9</td>\n",
       "      <td>23.1</td>\n",
       "      <td>...</td>\n",
       "      <td>21.000000</td>\n",
       "      <td>21.4</td>\n",
       "      <td>21.700001</td>\n",
       "      <td>22.000000</td>\n",
       "      <td>22.100000</td>\n",
       "      <td>22.100000</td>\n",
       "      <td>22.200001</td>\n",
       "      <td>22.299999</td>\n",
       "      <td>22.200001</td>\n",
       "      <td>22.299999</td>\n",
       "    </tr>\n",
       "    <tr>\n",
       "      <th>3</th>\n",
       "      <td>160704</td>\n",
       "      <td>0.0</td>\n",
       "      <td>0.0</td>\n",
       "      <td>0.0</td>\n",
       "      <td>0.0</td>\n",
       "      <td>8.4</td>\n",
       "      <td>50.7</td>\n",
       "      <td>64.2</td>\n",
       "      <td>146.0</td>\n",
       "      <td>276.5</td>\n",
       "      <td>...</td>\n",
       "      <td>23.799999</td>\n",
       "      <td>23.6</td>\n",
       "      <td>23.600000</td>\n",
       "      <td>23.000000</td>\n",
       "      <td>22.900000</td>\n",
       "      <td>22.700001</td>\n",
       "      <td>22.700001</td>\n",
       "      <td>22.799999</td>\n",
       "      <td>22.600000</td>\n",
       "      <td>22.500000</td>\n",
       "    </tr>\n",
       "    <tr>\n",
       "      <th>4</th>\n",
       "      <td>160705</td>\n",
       "      <td>0.0</td>\n",
       "      <td>13.8</td>\n",
       "      <td>74.7</td>\n",
       "      <td>147.0</td>\n",
       "      <td>177.9</td>\n",
       "      <td>306.2</td>\n",
       "      <td>347.2</td>\n",
       "      <td>389.1</td>\n",
       "      <td>302.7</td>\n",
       "      <td>...</td>\n",
       "      <td>25.900000</td>\n",
       "      <td>25.6</td>\n",
       "      <td>24.900000</td>\n",
       "      <td>24.900000</td>\n",
       "      <td>24.500000</td>\n",
       "      <td>23.600000</td>\n",
       "      <td>24.400000</td>\n",
       "      <td>24.600000</td>\n",
       "      <td>24.500000</td>\n",
       "      <td>24.400000</td>\n",
       "    </tr>\n",
       "  </tbody>\n",
       "</table>\n",
       "<p>5 rows × 84 columns</p>\n",
       "</div>"
      ],
      "text/plain": [
       "       날짜  5Hr   6Hr   7Hr    8Hr    9Hr   10Hr   11Hr   12Hr   13Hr  \\\n",
       "0  160701  0.0   2.5  36.9   44.4   29.2   59.3   33.9    9.2   28.4   \n",
       "1  160702  0.0   7.3  24.4   30.1   31.4   57.0    1.1    1.8    5.9   \n",
       "2  160703  0.0   0.0  14.0   16.9   39.7   17.1   10.4   53.9   23.1   \n",
       "3  160704  0.0   0.0   0.0    0.0    8.4   50.7   64.2  146.0  276.5   \n",
       "4  160705  0.0  13.8  74.7  147.0  177.9  306.2  347.2  389.1  302.7   \n",
       "\n",
       "     ...         기온11hr  기온12hr     기온13hr     기온14hr     기온15hr     기온16hr  \\\n",
       "0    ...      24.100000    23.6  24.299999  24.200001  24.700001  24.500000   \n",
       "1    ...      20.299999    21.0  21.000000  20.400000  20.400000  20.600000   \n",
       "2    ...      21.000000    21.4  21.700001  22.000000  22.100000  22.100000   \n",
       "3    ...      23.799999    23.6  23.600000  23.000000  22.900000  22.700001   \n",
       "4    ...      25.900000    25.6  24.900000  24.900000  24.500000  23.600000   \n",
       "\n",
       "      기온17hr     기온18hr     기온19hr     기온20hr  \n",
       "0  24.200001  22.799999  22.400000  22.200001  \n",
       "1  19.900000  20.700001  20.100000  20.000000  \n",
       "2  22.200001  22.299999  22.200001  22.299999  \n",
       "3  22.700001  22.799999  22.600000  22.500000  \n",
       "4  24.400000  24.600000  24.500000  24.400000  \n",
       "\n",
       "[5 rows x 84 columns]"
      ]
     },
     "execution_count": 5,
     "metadata": {},
     "output_type": "execute_result"
    }
   ],
   "source": [
    "sun_weather.head()"
   ]
  },
  {
   "cell_type": "code",
   "execution_count": 6,
   "metadata": {},
   "outputs": [
    {
     "data": {
      "text/plain": [
       "(382, 84)"
      ]
     },
     "execution_count": 6,
     "metadata": {},
     "output_type": "execute_result"
    }
   ],
   "source": [
    "sun_weather.shape"
   ]
  },
  {
   "cell_type": "code",
   "execution_count": 7,
   "metadata": {},
   "outputs": [],
   "source": [
    "#날짜 컬럼 date데이터로 변환\n",
    "sun_weather['날짜'] = pd.to_datetime(sun_weather['날짜'], format='%y%m%d')"
   ]
  },
  {
   "cell_type": "code",
   "execution_count": 8,
   "metadata": {},
   "outputs": [],
   "source": [
    "sun_weather.index = sun_weather['날짜']"
   ]
  },
  {
   "cell_type": "code",
   "execution_count": 9,
   "metadata": {},
   "outputs": [],
   "source": [
    "del sun_weather['날짜']"
   ]
  },
  {
   "cell_type": "code",
   "execution_count": 53,
   "metadata": {},
   "outputs": [
    {
     "data": {
      "text/plain": [
       "Index(['5Hr', '6Hr', '7Hr', '8Hr', '9Hr', '10Hr', '11Hr', '12Hr', '13Hr',\n",
       "       '14Hr', '15Hr', '16Hr', '17Hr', '18Hr', '19Hr', '20Hr', '충전시간발전량',\n",
       "       '일출시간', '일몰시간', '강수량5hr', '강수량6hr', '강수량7hr', '강수량8hr', '강수량9hr',\n",
       "       '강수량10hr', '강수량11hr', '강수량12hr', '강수량13hr', '강수량14hr', '강수량15hr',\n",
       "       '강수량16hr', '강수량17hr', '강수량18hr', '강수량19hr', '강수량20hr', '습도5hr', '습도6hr',\n",
       "       '습도7hr', '습도8hr', '습도9hr', '습도10hr', '습도11hr', '습도12hr', '습도13hr',\n",
       "       '습도14hr', '습도15hr', '습도16hr', '습도17hr', '습도18hr', '습도19hr', '습도20hr',\n",
       "       '풍속5hr', '풍속6hr', '풍속7hr', '풍속8hr', '풍속9hr', '풍속10hr', '풍속11hr',\n",
       "       '풍속12hr', '풍속13hr', '풍속14hr', '풍속15hr', '풍속16hr', '풍속17hr', '풍속18hr',\n",
       "       '풍속19hr', '풍속20hr', '기온5hr', '기온6hr', '기온7hr', '기온8hr', '기온9hr',\n",
       "       '기온10hr', '기온11hr', '기온12hr', '기온13hr', '기온14hr', '기온15hr', '기온16hr',\n",
       "       '기온17hr', '기온18hr', '기온19hr', '기온20hr'],\n",
       "      dtype='object')"
      ]
     },
     "execution_count": 53,
     "metadata": {},
     "output_type": "execute_result"
    }
   ],
   "source": [
    "sun_weather.columns"
   ]
  },
  {
   "cell_type": "code",
   "execution_count": 55,
   "metadata": {
    "scrolled": false
   },
   "outputs": [],
   "source": [
    "del sun_weather['일출시간']"
   ]
  },
  {
   "cell_type": "code",
   "execution_count": 56,
   "metadata": {},
   "outputs": [],
   "source": [
    "del sun_weather['일몰시간']"
   ]
  },
  {
   "cell_type": "code",
   "execution_count": 57,
   "metadata": {
    "scrolled": true
   },
   "outputs": [
    {
     "name": "stdout",
     "output_type": "stream",
     "text": [
      "<class 'pandas.core.frame.DataFrame'>\n",
      "DatetimeIndex: 382 entries, 2016-07-01 to 2017-07-17\n",
      "Data columns (total 81 columns):\n",
      "5Hr        382 non-null float64\n",
      "6Hr        382 non-null float64\n",
      "7Hr        382 non-null float64\n",
      "8Hr        382 non-null float64\n",
      "9Hr        382 non-null float64\n",
      "10Hr       382 non-null float64\n",
      "11Hr       382 non-null float64\n",
      "12Hr       382 non-null float64\n",
      "13Hr       382 non-null float64\n",
      "14Hr       382 non-null float64\n",
      "15Hr       382 non-null float64\n",
      "16Hr       382 non-null float64\n",
      "17Hr       382 non-null float64\n",
      "18Hr       382 non-null float64\n",
      "19Hr       382 non-null float64\n",
      "20Hr       382 non-null int64\n",
      "충전시간발전량    382 non-null float64\n",
      "강수량5hr     382 non-null float64\n",
      "강수량6hr     382 non-null float64\n",
      "강수량7hr     382 non-null float64\n",
      "강수량8hr     382 non-null float64\n",
      "강수량9hr     382 non-null float64\n",
      "강수량10hr    382 non-null float64\n",
      "강수량11hr    382 non-null float64\n",
      "강수량12hr    382 non-null float64\n",
      "강수량13hr    382 non-null float64\n",
      "강수량14hr    382 non-null float64\n",
      "강수량15hr    382 non-null float64\n",
      "강수량16hr    382 non-null float64\n",
      "강수량17hr    382 non-null float64\n",
      "강수량18hr    382 non-null float64\n",
      "강수량19hr    382 non-null float64\n",
      "강수량20hr    382 non-null float64\n",
      "습도5hr      382 non-null float64\n",
      "습도6hr      382 non-null float64\n",
      "습도7hr      382 non-null float64\n",
      "습도8hr      382 non-null float64\n",
      "습도9hr      382 non-null float64\n",
      "습도10hr     382 non-null float64\n",
      "습도11hr     382 non-null float64\n",
      "습도12hr     382 non-null float64\n",
      "습도13hr     382 non-null float64\n",
      "습도14hr     382 non-null float64\n",
      "습도15hr     382 non-null float64\n",
      "습도16hr     382 non-null float64\n",
      "습도17hr     382 non-null float64\n",
      "습도18hr     382 non-null float64\n",
      "습도19hr     382 non-null float64\n",
      "습도20hr     382 non-null float64\n",
      "풍속5hr      382 non-null float64\n",
      "풍속6hr      382 non-null float64\n",
      "풍속7hr      382 non-null float64\n",
      "풍속8hr      382 non-null float64\n",
      "풍속9hr      382 non-null float64\n",
      "풍속10hr     382 non-null float64\n",
      "풍속11hr     382 non-null float64\n",
      "풍속12hr     382 non-null float64\n",
      "풍속13hr     382 non-null float64\n",
      "풍속14hr     382 non-null float64\n",
      "풍속15hr     382 non-null float64\n",
      "풍속16hr     382 non-null float64\n",
      "풍속17hr     382 non-null float64\n",
      "풍속18hr     382 non-null float64\n",
      "풍속19hr     382 non-null float64\n",
      "풍속20hr     382 non-null float64\n",
      "기온5hr      382 non-null float64\n",
      "기온6hr      382 non-null float64\n",
      "기온7hr      382 non-null float64\n",
      "기온8hr      382 non-null float64\n",
      "기온9hr      382 non-null float64\n",
      "기온10hr     382 non-null float64\n",
      "기온11hr     382 non-null float64\n",
      "기온12hr     382 non-null float64\n",
      "기온13hr     382 non-null float64\n",
      "기온14hr     382 non-null float64\n",
      "기온15hr     382 non-null float64\n",
      "기온16hr     382 non-null float64\n",
      "기온17hr     382 non-null float64\n",
      "기온18hr     382 non-null float64\n",
      "기온19hr     382 non-null float64\n",
      "기온20hr     382 non-null float64\n",
      "dtypes: float64(80), int64(1)\n",
      "memory usage: 254.7 KB\n"
     ]
    }
   ],
   "source": [
    "sun_weather.info()"
   ]
  },
  {
   "cell_type": "code",
   "execution_count": 58,
   "metadata": {
    "scrolled": true
   },
   "outputs": [
    {
     "data": {
      "text/html": [
       "<div>\n",
       "<style scoped>\n",
       "    .dataframe tbody tr th:only-of-type {\n",
       "        vertical-align: middle;\n",
       "    }\n",
       "\n",
       "    .dataframe tbody tr th {\n",
       "        vertical-align: top;\n",
       "    }\n",
       "\n",
       "    .dataframe thead th {\n",
       "        text-align: right;\n",
       "    }\n",
       "</style>\n",
       "<table border=\"1\" class=\"dataframe\">\n",
       "  <thead>\n",
       "    <tr style=\"text-align: right;\">\n",
       "      <th></th>\n",
       "      <th>5Hr</th>\n",
       "      <th>6Hr</th>\n",
       "      <th>7Hr</th>\n",
       "      <th>8Hr</th>\n",
       "      <th>9Hr</th>\n",
       "      <th>10Hr</th>\n",
       "      <th>11Hr</th>\n",
       "      <th>12Hr</th>\n",
       "      <th>13Hr</th>\n",
       "      <th>14Hr</th>\n",
       "      <th>...</th>\n",
       "      <th>기온11hr</th>\n",
       "      <th>기온12hr</th>\n",
       "      <th>기온13hr</th>\n",
       "      <th>기온14hr</th>\n",
       "      <th>기온15hr</th>\n",
       "      <th>기온16hr</th>\n",
       "      <th>기온17hr</th>\n",
       "      <th>기온18hr</th>\n",
       "      <th>기온19hr</th>\n",
       "      <th>기온20hr</th>\n",
       "    </tr>\n",
       "    <tr>\n",
       "      <th>날짜</th>\n",
       "      <th></th>\n",
       "      <th></th>\n",
       "      <th></th>\n",
       "      <th></th>\n",
       "      <th></th>\n",
       "      <th></th>\n",
       "      <th></th>\n",
       "      <th></th>\n",
       "      <th></th>\n",
       "      <th></th>\n",
       "      <th></th>\n",
       "      <th></th>\n",
       "      <th></th>\n",
       "      <th></th>\n",
       "      <th></th>\n",
       "      <th></th>\n",
       "      <th></th>\n",
       "      <th></th>\n",
       "      <th></th>\n",
       "      <th></th>\n",
       "      <th></th>\n",
       "    </tr>\n",
       "  </thead>\n",
       "  <tbody>\n",
       "    <tr>\n",
       "      <th>2016-07-01</th>\n",
       "      <td>0.0</td>\n",
       "      <td>2.5</td>\n",
       "      <td>36.9</td>\n",
       "      <td>44.4</td>\n",
       "      <td>29.2</td>\n",
       "      <td>59.3</td>\n",
       "      <td>33.9</td>\n",
       "      <td>9.2</td>\n",
       "      <td>28.4</td>\n",
       "      <td>1.3</td>\n",
       "      <td>...</td>\n",
       "      <td>24.100000</td>\n",
       "      <td>23.6</td>\n",
       "      <td>24.299999</td>\n",
       "      <td>24.200001</td>\n",
       "      <td>24.700001</td>\n",
       "      <td>24.500000</td>\n",
       "      <td>24.200001</td>\n",
       "      <td>22.799999</td>\n",
       "      <td>22.400000</td>\n",
       "      <td>22.200001</td>\n",
       "    </tr>\n",
       "    <tr>\n",
       "      <th>2016-07-02</th>\n",
       "      <td>0.0</td>\n",
       "      <td>7.3</td>\n",
       "      <td>24.4</td>\n",
       "      <td>30.1</td>\n",
       "      <td>31.4</td>\n",
       "      <td>57.0</td>\n",
       "      <td>1.1</td>\n",
       "      <td>1.8</td>\n",
       "      <td>5.9</td>\n",
       "      <td>27.3</td>\n",
       "      <td>...</td>\n",
       "      <td>20.299999</td>\n",
       "      <td>21.0</td>\n",
       "      <td>21.000000</td>\n",
       "      <td>20.400000</td>\n",
       "      <td>20.400000</td>\n",
       "      <td>20.600000</td>\n",
       "      <td>19.900000</td>\n",
       "      <td>20.700001</td>\n",
       "      <td>20.100000</td>\n",
       "      <td>20.000000</td>\n",
       "    </tr>\n",
       "    <tr>\n",
       "      <th>2016-07-03</th>\n",
       "      <td>0.0</td>\n",
       "      <td>0.0</td>\n",
       "      <td>14.0</td>\n",
       "      <td>16.9</td>\n",
       "      <td>39.7</td>\n",
       "      <td>17.1</td>\n",
       "      <td>10.4</td>\n",
       "      <td>53.9</td>\n",
       "      <td>23.1</td>\n",
       "      <td>3.3</td>\n",
       "      <td>...</td>\n",
       "      <td>21.000000</td>\n",
       "      <td>21.4</td>\n",
       "      <td>21.700001</td>\n",
       "      <td>22.000000</td>\n",
       "      <td>22.100000</td>\n",
       "      <td>22.100000</td>\n",
       "      <td>22.200001</td>\n",
       "      <td>22.299999</td>\n",
       "      <td>22.200001</td>\n",
       "      <td>22.299999</td>\n",
       "    </tr>\n",
       "    <tr>\n",
       "      <th>2016-07-04</th>\n",
       "      <td>0.0</td>\n",
       "      <td>0.0</td>\n",
       "      <td>0.0</td>\n",
       "      <td>0.0</td>\n",
       "      <td>8.4</td>\n",
       "      <td>50.7</td>\n",
       "      <td>64.2</td>\n",
       "      <td>146.0</td>\n",
       "      <td>276.5</td>\n",
       "      <td>181.0</td>\n",
       "      <td>...</td>\n",
       "      <td>23.799999</td>\n",
       "      <td>23.6</td>\n",
       "      <td>23.600000</td>\n",
       "      <td>23.000000</td>\n",
       "      <td>22.900000</td>\n",
       "      <td>22.700001</td>\n",
       "      <td>22.700001</td>\n",
       "      <td>22.799999</td>\n",
       "      <td>22.600000</td>\n",
       "      <td>22.500000</td>\n",
       "    </tr>\n",
       "    <tr>\n",
       "      <th>2016-07-05</th>\n",
       "      <td>0.0</td>\n",
       "      <td>13.8</td>\n",
       "      <td>74.7</td>\n",
       "      <td>147.0</td>\n",
       "      <td>177.9</td>\n",
       "      <td>306.2</td>\n",
       "      <td>347.2</td>\n",
       "      <td>389.1</td>\n",
       "      <td>302.7</td>\n",
       "      <td>292.2</td>\n",
       "      <td>...</td>\n",
       "      <td>25.900000</td>\n",
       "      <td>25.6</td>\n",
       "      <td>24.900000</td>\n",
       "      <td>24.900000</td>\n",
       "      <td>24.500000</td>\n",
       "      <td>23.600000</td>\n",
       "      <td>24.400000</td>\n",
       "      <td>24.600000</td>\n",
       "      <td>24.500000</td>\n",
       "      <td>24.400000</td>\n",
       "    </tr>\n",
       "  </tbody>\n",
       "</table>\n",
       "<p>5 rows × 81 columns</p>\n",
       "</div>"
      ],
      "text/plain": [
       "            5Hr   6Hr   7Hr    8Hr    9Hr   10Hr   11Hr   12Hr   13Hr   14Hr  \\\n",
       "날짜                                                                             \n",
       "2016-07-01  0.0   2.5  36.9   44.4   29.2   59.3   33.9    9.2   28.4    1.3   \n",
       "2016-07-02  0.0   7.3  24.4   30.1   31.4   57.0    1.1    1.8    5.9   27.3   \n",
       "2016-07-03  0.0   0.0  14.0   16.9   39.7   17.1   10.4   53.9   23.1    3.3   \n",
       "2016-07-04  0.0   0.0   0.0    0.0    8.4   50.7   64.2  146.0  276.5  181.0   \n",
       "2016-07-05  0.0  13.8  74.7  147.0  177.9  306.2  347.2  389.1  302.7  292.2   \n",
       "\n",
       "              ...         기온11hr  기온12hr     기온13hr     기온14hr     기온15hr  \\\n",
       "날짜            ...                                                           \n",
       "2016-07-01    ...      24.100000    23.6  24.299999  24.200001  24.700001   \n",
       "2016-07-02    ...      20.299999    21.0  21.000000  20.400000  20.400000   \n",
       "2016-07-03    ...      21.000000    21.4  21.700001  22.000000  22.100000   \n",
       "2016-07-04    ...      23.799999    23.6  23.600000  23.000000  22.900000   \n",
       "2016-07-05    ...      25.900000    25.6  24.900000  24.900000  24.500000   \n",
       "\n",
       "               기온16hr     기온17hr     기온18hr     기온19hr     기온20hr  \n",
       "날짜                                                                 \n",
       "2016-07-01  24.500000  24.200001  22.799999  22.400000  22.200001  \n",
       "2016-07-02  20.600000  19.900000  20.700001  20.100000  20.000000  \n",
       "2016-07-03  22.100000  22.200001  22.299999  22.200001  22.299999  \n",
       "2016-07-04  22.700001  22.700001  22.799999  22.600000  22.500000  \n",
       "2016-07-05  23.600000  24.400000  24.600000  24.500000  24.400000  \n",
       "\n",
       "[5 rows x 81 columns]"
      ]
     },
     "execution_count": 58,
     "metadata": {},
     "output_type": "execute_result"
    }
   ],
   "source": [
    "sun_weather.head()"
   ]
  },
  {
   "cell_type": "code",
   "execution_count": 59,
   "metadata": {},
   "outputs": [],
   "source": [
    "# from pandas.tseries.offsets import MonthEnd\n",
    "# sun_weather['날짜'] = pd.to_datetime(sun_weather['날짜'])"
   ]
  },
  {
   "cell_type": "code",
   "execution_count": 60,
   "metadata": {},
   "outputs": [],
   "source": [
    "# from datetime import datetime, timedelta\n",
    "# s = sun_weather.날짜\n",
    "# s"
   ]
  },
  {
   "cell_type": "code",
   "execution_count": 61,
   "metadata": {
    "scrolled": true
   },
   "outputs": [],
   "source": [
    "# sun_weather.plot()"
   ]
  },
  {
   "cell_type": "code",
   "execution_count": 62,
   "metadata": {},
   "outputs": [],
   "source": [
    "# sun_weather.dtypes"
   ]
  },
  {
   "cell_type": "code",
   "execution_count": 63,
   "metadata": {
    "scrolled": false
   },
   "outputs": [
    {
     "data": {
      "text/plain": [
       "(382, 81)"
      ]
     },
     "execution_count": 63,
     "metadata": {},
     "output_type": "execute_result"
    }
   ],
   "source": [
    "sun_weather.shape"
   ]
  },
  {
   "cell_type": "code",
   "execution_count": 64,
   "metadata": {},
   "outputs": [
    {
     "data": {
      "text/plain": [
       "5Hr          0.0\n",
       "6Hr          0.0\n",
       "7Hr          0.0\n",
       "8Hr          1.2\n",
       "9Hr         13.9\n",
       "10Hr        21.7\n",
       "11Hr        24.5\n",
       "12Hr        26.1\n",
       "13Hr        14.6\n",
       "14Hr        36.9\n",
       "15Hr        19.3\n",
       "16Hr        66.6\n",
       "17Hr        54.5\n",
       "18Hr         4.3\n",
       "19Hr         0.0\n",
       "20Hr         0.0\n",
       "충전시간발전량    209.7\n",
       "강수량5hr       0.6\n",
       "강수량6hr       0.5\n",
       "강수량7hr       0.4\n",
       "강수량8hr       0.0\n",
       "강수량9hr       0.0\n",
       "강수량10hr      0.0\n",
       "강수량11hr      0.0\n",
       "강수량12hr      0.0\n",
       "강수량13hr      0.0\n",
       "강수량14hr      0.0\n",
       "강수량15hr      0.0\n",
       "강수량16hr      0.0\n",
       "강수량17hr      0.0\n",
       "           ...  \n",
       "풍속7hr        2.4\n",
       "풍속8hr        2.0\n",
       "풍속9hr        2.8\n",
       "풍속10hr       2.9\n",
       "풍속11hr       0.3\n",
       "풍속12hr       0.5\n",
       "풍속13hr       0.4\n",
       "풍속14hr       0.2\n",
       "풍속15hr       0.7\n",
       "풍속16hr       1.1\n",
       "풍속17hr       0.4\n",
       "풍속18hr       0.7\n",
       "풍속19hr       0.5\n",
       "풍속20hr       0.3\n",
       "기온5hr        7.8\n",
       "기온6hr        7.8\n",
       "기온7hr        7.6\n",
       "기온8hr        8.7\n",
       "기온9hr        8.0\n",
       "기온10hr       7.5\n",
       "기온11hr       6.5\n",
       "기온12hr       5.5\n",
       "기온13hr       6.0\n",
       "기온14hr       5.3\n",
       "기온15hr       4.7\n",
       "기온16hr       5.2\n",
       "기온17hr       4.7\n",
       "기온18hr       4.4\n",
       "기온19hr       4.2\n",
       "기온20hr       3.5\n",
       "Name: 2017-03-25 00:00:00, Length: 81, dtype: float64"
      ]
     },
     "execution_count": 64,
     "metadata": {},
     "output_type": "execute_result"
    }
   ],
   "source": [
    "sun_weather.loc['2017-03-25']"
   ]
  },
  {
   "cell_type": "code",
   "execution_count": 65,
   "metadata": {},
   "outputs": [],
   "source": [
    "# 382 * 0.7"
   ]
  },
  {
   "cell_type": "code",
   "execution_count": 66,
   "metadata": {},
   "outputs": [],
   "source": [
    "train = sun_weather.loc[:'2017-03-25']\n",
    "test = sun_weather.loc['2017-03-25':]"
   ]
  },
  {
   "cell_type": "code",
   "execution_count": 67,
   "metadata": {},
   "outputs": [
    {
     "data": {
      "text/plain": [
       "(268, 81)"
      ]
     },
     "execution_count": 67,
     "metadata": {},
     "output_type": "execute_result"
    }
   ],
   "source": [
    "train.shape"
   ]
  },
  {
   "cell_type": "code",
   "execution_count": 68,
   "metadata": {},
   "outputs": [
    {
     "data": {
      "text/plain": [
       "(115, 81)"
      ]
     },
     "execution_count": 68,
     "metadata": {},
     "output_type": "execute_result"
    }
   ],
   "source": [
    "test.shape"
   ]
  },
  {
   "cell_type": "code",
   "execution_count": 69,
   "metadata": {
    "scrolled": true
   },
   "outputs": [
    {
     "data": {
      "image/png": "[encoded data removed]",
      "text/plain": [
       "<Figure size 432x288 with 1 Axes>"
      ]
     },
     "metadata": {},
     "output_type": "display_data"
    }
   ],
   "source": [
    "ax = train.충전시간발전량.plot()"
   ]
  },
  {
   "cell_type": "code",
   "execution_count": 70,
   "metadata": {
    "scrolled": false
   },
   "outputs": [
    {
     "data": {
      "text/plain": [
       "<matplotlib.axes._subplots.AxesSubplot at 0x2a26c13ce10>"
      ]
     },
     "execution_count": 70,
     "metadata": {},
     "output_type": "execute_result"
    },
    {
     "data": {
      "image/png": "[encoded data removed]",
      "text/plain": [
       "<Figure size 432x288 with 1 Axes>"
      ]
     },
     "metadata": {},
     "output_type": "display_data"
    }
   ],
   "source": [
    "test.충전시간발전량.plot()"
   ]
  },
  {
   "cell_type": "code",
   "execution_count": 71,
   "metadata": {},
   "outputs": [],
   "source": [
    "from sklearn.preprocessing import MinMaxScaler\n",
    "sc = MinMaxScaler()"
   ]
  },
  {
   "cell_type": "code",
   "execution_count": 72,
   "metadata": {
    "scrolled": true
   },
   "outputs": [
    {
     "data": {
      "text/html": [
       "<div>\n",
       "<style scoped>\n",
       "    .dataframe tbody tr th:only-of-type {\n",
       "        vertical-align: middle;\n",
       "    }\n",
       "\n",
       "    .dataframe tbody tr th {\n",
       "        vertical-align: top;\n",
       "    }\n",
       "\n",
       "    .dataframe thead th {\n",
       "        text-align: right;\n",
       "    }\n",
       "</style>\n",
       "<table border=\"1\" class=\"dataframe\">\n",
       "  <thead>\n",
       "    <tr style=\"text-align: right;\">\n",
       "      <th></th>\n",
       "      <th>5Hr</th>\n",
       "      <th>6Hr</th>\n",
       "      <th>7Hr</th>\n",
       "      <th>8Hr</th>\n",
       "      <th>9Hr</th>\n",
       "      <th>10Hr</th>\n",
       "      <th>11Hr</th>\n",
       "      <th>12Hr</th>\n",
       "      <th>13Hr</th>\n",
       "      <th>14Hr</th>\n",
       "      <th>...</th>\n",
       "      <th>기온11hr</th>\n",
       "      <th>기온12hr</th>\n",
       "      <th>기온13hr</th>\n",
       "      <th>기온14hr</th>\n",
       "      <th>기온15hr</th>\n",
       "      <th>기온16hr</th>\n",
       "      <th>기온17hr</th>\n",
       "      <th>기온18hr</th>\n",
       "      <th>기온19hr</th>\n",
       "      <th>기온20hr</th>\n",
       "    </tr>\n",
       "    <tr>\n",
       "      <th>날짜</th>\n",
       "      <th></th>\n",
       "      <th></th>\n",
       "      <th></th>\n",
       "      <th></th>\n",
       "      <th></th>\n",
       "      <th></th>\n",
       "      <th></th>\n",
       "      <th></th>\n",
       "      <th></th>\n",
       "      <th></th>\n",
       "      <th></th>\n",
       "      <th></th>\n",
       "      <th></th>\n",
       "      <th></th>\n",
       "      <th></th>\n",
       "      <th></th>\n",
       "      <th></th>\n",
       "      <th></th>\n",
       "      <th></th>\n",
       "      <th></th>\n",
       "      <th></th>\n",
       "    </tr>\n",
       "  </thead>\n",
       "  <tbody>\n",
       "    <tr>\n",
       "      <th>2016-07-01</th>\n",
       "      <td>0.0</td>\n",
       "      <td>2.5</td>\n",
       "      <td>36.9</td>\n",
       "      <td>44.4</td>\n",
       "      <td>29.2</td>\n",
       "      <td>59.3</td>\n",
       "      <td>33.9</td>\n",
       "      <td>9.2</td>\n",
       "      <td>28.4</td>\n",
       "      <td>1.3</td>\n",
       "      <td>...</td>\n",
       "      <td>24.100000</td>\n",
       "      <td>23.6</td>\n",
       "      <td>24.299999</td>\n",
       "      <td>24.200001</td>\n",
       "      <td>24.700001</td>\n",
       "      <td>24.500000</td>\n",
       "      <td>24.200001</td>\n",
       "      <td>22.799999</td>\n",
       "      <td>22.400000</td>\n",
       "      <td>22.200001</td>\n",
       "    </tr>\n",
       "    <tr>\n",
       "      <th>2016-07-02</th>\n",
       "      <td>0.0</td>\n",
       "      <td>7.3</td>\n",
       "      <td>24.4</td>\n",
       "      <td>30.1</td>\n",
       "      <td>31.4</td>\n",
       "      <td>57.0</td>\n",
       "      <td>1.1</td>\n",
       "      <td>1.8</td>\n",
       "      <td>5.9</td>\n",
       "      <td>27.3</td>\n",
       "      <td>...</td>\n",
       "      <td>20.299999</td>\n",
       "      <td>21.0</td>\n",
       "      <td>21.000000</td>\n",
       "      <td>20.400000</td>\n",
       "      <td>20.400000</td>\n",
       "      <td>20.600000</td>\n",
       "      <td>19.900000</td>\n",
       "      <td>20.700001</td>\n",
       "      <td>20.100000</td>\n",
       "      <td>20.000000</td>\n",
       "    </tr>\n",
       "    <tr>\n",
       "      <th>2016-07-03</th>\n",
       "      <td>0.0</td>\n",
       "      <td>0.0</td>\n",
       "      <td>14.0</td>\n",
       "      <td>16.9</td>\n",
       "      <td>39.7</td>\n",
       "      <td>17.1</td>\n",
       "      <td>10.4</td>\n",
       "      <td>53.9</td>\n",
       "      <td>23.1</td>\n",
       "      <td>3.3</td>\n",
       "      <td>...</td>\n",
       "      <td>21.000000</td>\n",
       "      <td>21.4</td>\n",
       "      <td>21.700001</td>\n",
       "      <td>22.000000</td>\n",
       "      <td>22.100000</td>\n",
       "      <td>22.100000</td>\n",
       "      <td>22.200001</td>\n",
       "      <td>22.299999</td>\n",
       "      <td>22.200001</td>\n",
       "      <td>22.299999</td>\n",
       "    </tr>\n",
       "    <tr>\n",
       "      <th>2016-07-04</th>\n",
       "      <td>0.0</td>\n",
       "      <td>0.0</td>\n",
       "      <td>0.0</td>\n",
       "      <td>0.0</td>\n",
       "      <td>8.4</td>\n",
       "      <td>50.7</td>\n",
       "      <td>64.2</td>\n",
       "      <td>146.0</td>\n",
       "      <td>276.5</td>\n",
       "      <td>181.0</td>\n",
       "      <td>...</td>\n",
       "      <td>23.799999</td>\n",
       "      <td>23.6</td>\n",
       "      <td>23.600000</td>\n",
       "      <td>23.000000</td>\n",
       "      <td>22.900000</td>\n",
       "      <td>22.700001</td>\n",
       "      <td>22.700001</td>\n",
       "      <td>22.799999</td>\n",
       "      <td>22.600000</td>\n",
       "      <td>22.500000</td>\n",
       "    </tr>\n",
       "    <tr>\n",
       "      <th>2016-07-05</th>\n",
       "      <td>0.0</td>\n",
       "      <td>13.8</td>\n",
       "      <td>74.7</td>\n",
       "      <td>147.0</td>\n",
       "      <td>177.9</td>\n",
       "      <td>306.2</td>\n",
       "      <td>347.2</td>\n",
       "      <td>389.1</td>\n",
       "      <td>302.7</td>\n",
       "      <td>292.2</td>\n",
       "      <td>...</td>\n",
       "      <td>25.900000</td>\n",
       "      <td>25.6</td>\n",
       "      <td>24.900000</td>\n",
       "      <td>24.900000</td>\n",
       "      <td>24.500000</td>\n",
       "      <td>23.600000</td>\n",
       "      <td>24.400000</td>\n",
       "      <td>24.600000</td>\n",
       "      <td>24.500000</td>\n",
       "      <td>24.400000</td>\n",
       "    </tr>\n",
       "  </tbody>\n",
       "</table>\n",
       "<p>5 rows × 81 columns</p>\n",
       "</div>"
      ],
      "text/plain": [
       "            5Hr   6Hr   7Hr    8Hr    9Hr   10Hr   11Hr   12Hr   13Hr   14Hr  \\\n",
       "날짜                                                                             \n",
       "2016-07-01  0.0   2.5  36.9   44.4   29.2   59.3   33.9    9.2   28.4    1.3   \n",
       "2016-07-02  0.0   7.3  24.4   30.1   31.4   57.0    1.1    1.8    5.9   27.3   \n",
       "2016-07-03  0.0   0.0  14.0   16.9   39.7   17.1   10.4   53.9   23.1    3.3   \n",
       "2016-07-04  0.0   0.0   0.0    0.0    8.4   50.7   64.2  146.0  276.5  181.0   \n",
       "2016-07-05  0.0  13.8  74.7  147.0  177.9  306.2  347.2  389.1  302.7  292.2   \n",
       "\n",
       "              ...         기온11hr  기온12hr     기온13hr     기온14hr     기온15hr  \\\n",
       "날짜            ...                                                           \n",
       "2016-07-01    ...      24.100000    23.6  24.299999  24.200001  24.700001   \n",
       "2016-07-02    ...      20.299999    21.0  21.000000  20.400000  20.400000   \n",
       "2016-07-03    ...      21.000000    21.4  21.700001  22.000000  22.100000   \n",
       "2016-07-04    ...      23.799999    23.6  23.600000  23.000000  22.900000   \n",
       "2016-07-05    ...      25.900000    25.6  24.900000  24.900000  24.500000   \n",
       "\n",
       "               기온16hr     기온17hr     기온18hr     기온19hr     기온20hr  \n",
       "날짜                                                                 \n",
       "2016-07-01  24.500000  24.200001  22.799999  22.400000  22.200001  \n",
       "2016-07-02  20.600000  19.900000  20.700001  20.100000  20.000000  \n",
       "2016-07-03  22.100000  22.200001  22.299999  22.200001  22.299999  \n",
       "2016-07-04  22.700001  22.700001  22.799999  22.600000  22.500000  \n",
       "2016-07-05  23.600000  24.400000  24.600000  24.500000  24.400000  \n",
       "\n",
       "[5 rows x 81 columns]"
      ]
     },
     "execution_count": 72,
     "metadata": {},
     "output_type": "execute_result"
    }
   ],
   "source": [
    "train.head()"
   ]
  },
  {
   "cell_type": "code",
   "execution_count": 73,
   "metadata": {
    "scrolled": true
   },
   "outputs": [
    {
     "data": {
      "text/html": [
       "<div>\n",
       "<style scoped>\n",
       "    .dataframe tbody tr th:only-of-type {\n",
       "        vertical-align: middle;\n",
       "    }\n",
       "\n",
       "    .dataframe tbody tr th {\n",
       "        vertical-align: top;\n",
       "    }\n",
       "\n",
       "    .dataframe thead th {\n",
       "        text-align: right;\n",
       "    }\n",
       "</style>\n",
       "<table border=\"1\" class=\"dataframe\">\n",
       "  <thead>\n",
       "    <tr style=\"text-align: right;\">\n",
       "      <th></th>\n",
       "      <th>5Hr</th>\n",
       "      <th>6Hr</th>\n",
       "      <th>7Hr</th>\n",
       "      <th>8Hr</th>\n",
       "      <th>9Hr</th>\n",
       "      <th>10Hr</th>\n",
       "      <th>11Hr</th>\n",
       "      <th>12Hr</th>\n",
       "      <th>13Hr</th>\n",
       "      <th>14Hr</th>\n",
       "      <th>...</th>\n",
       "      <th>기온11hr</th>\n",
       "      <th>기온12hr</th>\n",
       "      <th>기온13hr</th>\n",
       "      <th>기온14hr</th>\n",
       "      <th>기온15hr</th>\n",
       "      <th>기온16hr</th>\n",
       "      <th>기온17hr</th>\n",
       "      <th>기온18hr</th>\n",
       "      <th>기온19hr</th>\n",
       "      <th>기온20hr</th>\n",
       "    </tr>\n",
       "    <tr>\n",
       "      <th>날짜</th>\n",
       "      <th></th>\n",
       "      <th></th>\n",
       "      <th></th>\n",
       "      <th></th>\n",
       "      <th></th>\n",
       "      <th></th>\n",
       "      <th></th>\n",
       "      <th></th>\n",
       "      <th></th>\n",
       "      <th></th>\n",
       "      <th></th>\n",
       "      <th></th>\n",
       "      <th></th>\n",
       "      <th></th>\n",
       "      <th></th>\n",
       "      <th></th>\n",
       "      <th></th>\n",
       "      <th></th>\n",
       "      <th></th>\n",
       "      <th></th>\n",
       "      <th></th>\n",
       "    </tr>\n",
       "  </thead>\n",
       "  <tbody>\n",
       "    <tr>\n",
       "      <th>2017-03-25</th>\n",
       "      <td>0.0</td>\n",
       "      <td>0.0</td>\n",
       "      <td>0.0</td>\n",
       "      <td>1.2</td>\n",
       "      <td>13.9</td>\n",
       "      <td>21.7</td>\n",
       "      <td>24.5</td>\n",
       "      <td>26.1</td>\n",
       "      <td>14.6</td>\n",
       "      <td>36.9</td>\n",
       "      <td>...</td>\n",
       "      <td>6.5</td>\n",
       "      <td>5.5</td>\n",
       "      <td>6.0</td>\n",
       "      <td>5.3</td>\n",
       "      <td>4.7</td>\n",
       "      <td>5.2</td>\n",
       "      <td>4.7</td>\n",
       "      <td>4.4</td>\n",
       "      <td>4.2</td>\n",
       "      <td>3.5</td>\n",
       "    </tr>\n",
       "    <tr>\n",
       "      <th>2017-03-26</th>\n",
       "      <td>0.0</td>\n",
       "      <td>0.2</td>\n",
       "      <td>43.6</td>\n",
       "      <td>122.7</td>\n",
       "      <td>206.9</td>\n",
       "      <td>349.4</td>\n",
       "      <td>375.5</td>\n",
       "      <td>340.8</td>\n",
       "      <td>301.4</td>\n",
       "      <td>250.6</td>\n",
       "      <td>...</td>\n",
       "      <td>7.6</td>\n",
       "      <td>6.7</td>\n",
       "      <td>6.3</td>\n",
       "      <td>6.6</td>\n",
       "      <td>6.3</td>\n",
       "      <td>6.0</td>\n",
       "      <td>5.6</td>\n",
       "      <td>5.3</td>\n",
       "      <td>6.1</td>\n",
       "      <td>6.4</td>\n",
       "    </tr>\n",
       "    <tr>\n",
       "      <th>2017-03-27</th>\n",
       "      <td>0.0</td>\n",
       "      <td>0.0</td>\n",
       "      <td>29.4</td>\n",
       "      <td>99.4</td>\n",
       "      <td>108.0</td>\n",
       "      <td>242.1</td>\n",
       "      <td>293.6</td>\n",
       "      <td>419.4</td>\n",
       "      <td>351.7</td>\n",
       "      <td>373.9</td>\n",
       "      <td>...</td>\n",
       "      <td>8.8</td>\n",
       "      <td>6.8</td>\n",
       "      <td>6.7</td>\n",
       "      <td>5.5</td>\n",
       "      <td>6.3</td>\n",
       "      <td>5.5</td>\n",
       "      <td>5.7</td>\n",
       "      <td>4.7</td>\n",
       "      <td>3.4</td>\n",
       "      <td>2.7</td>\n",
       "    </tr>\n",
       "    <tr>\n",
       "      <th>2017-03-28</th>\n",
       "      <td>0.0</td>\n",
       "      <td>0.2</td>\n",
       "      <td>47.6</td>\n",
       "      <td>163.2</td>\n",
       "      <td>279.8</td>\n",
       "      <td>366.3</td>\n",
       "      <td>376.1</td>\n",
       "      <td>319.0</td>\n",
       "      <td>293.3</td>\n",
       "      <td>245.1</td>\n",
       "      <td>...</td>\n",
       "      <td>9.6</td>\n",
       "      <td>9.3</td>\n",
       "      <td>8.7</td>\n",
       "      <td>8.9</td>\n",
       "      <td>8.1</td>\n",
       "      <td>7.5</td>\n",
       "      <td>7.4</td>\n",
       "      <td>7.4</td>\n",
       "      <td>7.4</td>\n",
       "      <td>7.3</td>\n",
       "    </tr>\n",
       "    <tr>\n",
       "      <th>2017-03-29</th>\n",
       "      <td>0.0</td>\n",
       "      <td>0.0</td>\n",
       "      <td>0.0</td>\n",
       "      <td>2.2</td>\n",
       "      <td>5.7</td>\n",
       "      <td>22.8</td>\n",
       "      <td>34.7</td>\n",
       "      <td>38.7</td>\n",
       "      <td>55.1</td>\n",
       "      <td>56.4</td>\n",
       "      <td>...</td>\n",
       "      <td>10.5</td>\n",
       "      <td>10.1</td>\n",
       "      <td>8.9</td>\n",
       "      <td>8.4</td>\n",
       "      <td>9.4</td>\n",
       "      <td>8.8</td>\n",
       "      <td>8.3</td>\n",
       "      <td>7.9</td>\n",
       "      <td>7.1</td>\n",
       "      <td>6.5</td>\n",
       "    </tr>\n",
       "  </tbody>\n",
       "</table>\n",
       "<p>5 rows × 81 columns</p>\n",
       "</div>"
      ],
      "text/plain": [
       "            5Hr  6Hr   7Hr    8Hr    9Hr   10Hr   11Hr   12Hr   13Hr   14Hr  \\\n",
       "날짜                                                                            \n",
       "2017-03-25  0.0  0.0   0.0    1.2   13.9   21.7   24.5   26.1   14.6   36.9   \n",
       "2017-03-26  0.0  0.2  43.6  122.7  206.9  349.4  375.5  340.8  301.4  250.6   \n",
       "2017-03-27  0.0  0.0  29.4   99.4  108.0  242.1  293.6  419.4  351.7  373.9   \n",
       "2017-03-28  0.0  0.2  47.6  163.2  279.8  366.3  376.1  319.0  293.3  245.1   \n",
       "2017-03-29  0.0  0.0   0.0    2.2    5.7   22.8   34.7   38.7   55.1   56.4   \n",
       "\n",
       "             ...    기온11hr  기온12hr  기온13hr  기온14hr  기온15hr  기온16hr  기온17hr  \\\n",
       "날짜           ...                                                             \n",
       "2017-03-25   ...       6.5     5.5     6.0     5.3     4.7     5.2     4.7   \n",
       "2017-03-26   ...       7.6     6.7     6.3     6.6     6.3     6.0     5.6   \n",
       "2017-03-27   ...       8.8     6.8     6.7     5.5     6.3     5.5     5.7   \n",
       "2017-03-28   ...       9.6     9.3     8.7     8.9     8.1     7.5     7.4   \n",
       "2017-03-29   ...      10.5    10.1     8.9     8.4     9.4     8.8     8.3   \n",
       "\n",
       "            기온18hr  기온19hr  기온20hr  \n",
       "날짜                                  \n",
       "2017-03-25     4.4     4.2     3.5  \n",
       "2017-03-26     5.3     6.1     6.4  \n",
       "2017-03-27     4.7     3.4     2.7  \n",
       "2017-03-28     7.4     7.4     7.3  \n",
       "2017-03-29     7.9     7.1     6.5  \n",
       "\n",
       "[5 rows x 81 columns]"
      ]
     },
     "execution_count": 73,
     "metadata": {},
     "output_type": "execute_result"
    }
   ],
   "source": [
    "test.head()"
   ]
  },
  {
   "cell_type": "code",
   "execution_count": 74,
   "metadata": {},
   "outputs": [],
   "source": [
    "train_sc = sc.fit_transform(train)\n",
    "# train_sc"
   ]
  },
  {
   "cell_type": "code",
   "execution_count": 75,
   "metadata": {},
   "outputs": [],
   "source": [
    "test_sc = sc.transform(test)\n",
    "# test_sc"
   ]
  },
  {
   "cell_type": "code",
   "execution_count": 76,
   "metadata": {
    "scrolled": true
   },
   "outputs": [
    {
     "data": {
      "text/plain": [
       "1.8563829787234043"
      ]
     },
     "execution_count": 76,
     "metadata": {},
     "output_type": "execute_result"
    }
   ],
   "source": [
    "test_sc.max()"
   ]
  },
  {
   "cell_type": "code",
   "execution_count": 77,
   "metadata": {},
   "outputs": [
    {
     "data": {
      "text/plain": [
       "-0.18965517241379315"
      ]
     },
     "execution_count": 77,
     "metadata": {},
     "output_type": "execute_result"
    }
   ],
   "source": [
    "test_sc.min()"
   ]
  },
  {
   "cell_type": "code",
   "execution_count": 78,
   "metadata": {},
   "outputs": [
    {
     "data": {
      "text/plain": [
       "1.0000000000000002"
      ]
     },
     "execution_count": 78,
     "metadata": {},
     "output_type": "execute_result"
    }
   ],
   "source": [
    "train_sc.max()"
   ]
  },
  {
   "cell_type": "code",
   "execution_count": 79,
   "metadata": {},
   "outputs": [
    {
     "data": {
      "text/plain": [
       "0.0"
      ]
     },
     "execution_count": 79,
     "metadata": {},
     "output_type": "execute_result"
    }
   ],
   "source": [
    "train_sc.min()"
   ]
  },
  {
   "cell_type": "code",
   "execution_count": 80,
   "metadata": {
    "scrolled": false
   },
   "outputs": [
    {
     "data": {
      "text/html": [
       "<div>\n",
       "<style scoped>\n",
       "    .dataframe tbody tr th:only-of-type {\n",
       "        vertical-align: middle;\n",
       "    }\n",
       "\n",
       "    .dataframe tbody tr th {\n",
       "        vertical-align: top;\n",
       "    }\n",
       "\n",
       "    .dataframe thead th {\n",
       "        text-align: right;\n",
       "    }\n",
       "</style>\n",
       "<table border=\"1\" class=\"dataframe\">\n",
       "  <thead>\n",
       "    <tr style=\"text-align: right;\">\n",
       "      <th></th>\n",
       "      <th>5Hr</th>\n",
       "      <th>6Hr</th>\n",
       "      <th>7Hr</th>\n",
       "      <th>8Hr</th>\n",
       "      <th>9Hr</th>\n",
       "      <th>10Hr</th>\n",
       "      <th>11Hr</th>\n",
       "      <th>12Hr</th>\n",
       "      <th>13Hr</th>\n",
       "      <th>14Hr</th>\n",
       "      <th>...</th>\n",
       "      <th>기온11hr</th>\n",
       "      <th>기온12hr</th>\n",
       "      <th>기온13hr</th>\n",
       "      <th>기온14hr</th>\n",
       "      <th>기온15hr</th>\n",
       "      <th>기온16hr</th>\n",
       "      <th>기온17hr</th>\n",
       "      <th>기온18hr</th>\n",
       "      <th>기온19hr</th>\n",
       "      <th>기온20hr</th>\n",
       "    </tr>\n",
       "    <tr>\n",
       "      <th>날짜</th>\n",
       "      <th></th>\n",
       "      <th></th>\n",
       "      <th></th>\n",
       "      <th></th>\n",
       "      <th></th>\n",
       "      <th></th>\n",
       "      <th></th>\n",
       "      <th></th>\n",
       "      <th></th>\n",
       "      <th></th>\n",
       "      <th></th>\n",
       "      <th></th>\n",
       "      <th></th>\n",
       "      <th></th>\n",
       "      <th></th>\n",
       "      <th></th>\n",
       "      <th></th>\n",
       "      <th></th>\n",
       "      <th></th>\n",
       "      <th></th>\n",
       "      <th></th>\n",
       "    </tr>\n",
       "  </thead>\n",
       "  <tbody>\n",
       "    <tr>\n",
       "      <th>2016-07-01</th>\n",
       "      <td>0.0</td>\n",
       "      <td>0.132979</td>\n",
       "      <td>0.414141</td>\n",
       "      <td>0.211027</td>\n",
       "      <td>0.089433</td>\n",
       "      <td>0.156135</td>\n",
       "      <td>0.076749</td>\n",
       "      <td>0.019991</td>\n",
       "      <td>0.060490</td>\n",
       "      <td>0.003129</td>\n",
       "      <td>...</td>\n",
       "      <td>0.842444</td>\n",
       "      <td>0.837209</td>\n",
       "      <td>0.869565</td>\n",
       "      <td>0.886598</td>\n",
       "      <td>0.910653</td>\n",
       "      <td>0.920690</td>\n",
       "      <td>0.909091</td>\n",
       "      <td>0.871287</td>\n",
       "      <td>0.870130</td>\n",
       "      <td>0.850794</td>\n",
       "    </tr>\n",
       "    <tr>\n",
       "      <th>2016-07-02</th>\n",
       "      <td>0.0</td>\n",
       "      <td>0.388298</td>\n",
       "      <td>0.273850</td>\n",
       "      <td>0.143061</td>\n",
       "      <td>0.096172</td>\n",
       "      <td>0.150079</td>\n",
       "      <td>0.002490</td>\n",
       "      <td>0.003911</td>\n",
       "      <td>0.012567</td>\n",
       "      <td>0.065704</td>\n",
       "      <td>...</td>\n",
       "      <td>0.720257</td>\n",
       "      <td>0.750831</td>\n",
       "      <td>0.759197</td>\n",
       "      <td>0.756014</td>\n",
       "      <td>0.762887</td>\n",
       "      <td>0.786207</td>\n",
       "      <td>0.764310</td>\n",
       "      <td>0.801980</td>\n",
       "      <td>0.795455</td>\n",
       "      <td>0.780952</td>\n",
       "    </tr>\n",
       "  </tbody>\n",
       "</table>\n",
       "<p>2 rows × 81 columns</p>\n",
       "</div>"
      ],
      "text/plain": [
       "            5Hr       6Hr       7Hr       8Hr       9Hr      10Hr      11Hr  \\\n",
       "날짜                                                                            \n",
       "2016-07-01  0.0  0.132979  0.414141  0.211027  0.089433  0.156135  0.076749   \n",
       "2016-07-02  0.0  0.388298  0.273850  0.143061  0.096172  0.150079  0.002490   \n",
       "\n",
       "                12Hr      13Hr      14Hr    ...       기온11hr    기온12hr  \\\n",
       "날짜                                          ...                          \n",
       "2016-07-01  0.019991  0.060490  0.003129    ...     0.842444  0.837209   \n",
       "2016-07-02  0.003911  0.012567  0.065704    ...     0.720257  0.750831   \n",
       "\n",
       "              기온13hr    기온14hr    기온15hr    기온16hr    기온17hr    기온18hr  \\\n",
       "날짜                                                                       \n",
       "2016-07-01  0.869565  0.886598  0.910653  0.920690  0.909091  0.871287   \n",
       "2016-07-02  0.759197  0.756014  0.762887  0.786207  0.764310  0.801980   \n",
       "\n",
       "              기온19hr    기온20hr  \n",
       "날짜                              \n",
       "2016-07-01  0.870130  0.850794  \n",
       "2016-07-02  0.795455  0.780952  \n",
       "\n",
       "[2 rows x 81 columns]"
      ]
     },
     "execution_count": 80,
     "metadata": {},
     "output_type": "execute_result"
    }
   ],
   "source": [
    "train_sc_df = pd.DataFrame(train_sc, columns= train.columns, index=train.index)\n",
    "train_sc_df.head(2)"
   ]
  },
  {
   "cell_type": "code",
   "execution_count": 81,
   "metadata": {
    "scrolled": false
   },
   "outputs": [
    {
     "data": {
      "text/html": [
       "<div>\n",
       "<style scoped>\n",
       "    .dataframe tbody tr th:only-of-type {\n",
       "        vertical-align: middle;\n",
       "    }\n",
       "\n",
       "    .dataframe tbody tr th {\n",
       "        vertical-align: top;\n",
       "    }\n",
       "\n",
       "    .dataframe thead th {\n",
       "        text-align: right;\n",
       "    }\n",
       "</style>\n",
       "<table border=\"1\" class=\"dataframe\">\n",
       "  <thead>\n",
       "    <tr style=\"text-align: right;\">\n",
       "      <th></th>\n",
       "      <th>5Hr</th>\n",
       "      <th>6Hr</th>\n",
       "      <th>7Hr</th>\n",
       "      <th>8Hr</th>\n",
       "      <th>9Hr</th>\n",
       "      <th>10Hr</th>\n",
       "      <th>11Hr</th>\n",
       "      <th>12Hr</th>\n",
       "      <th>13Hr</th>\n",
       "      <th>14Hr</th>\n",
       "      <th>...</th>\n",
       "      <th>기온11hr</th>\n",
       "      <th>기온12hr</th>\n",
       "      <th>기온13hr</th>\n",
       "      <th>기온14hr</th>\n",
       "      <th>기온15hr</th>\n",
       "      <th>기온16hr</th>\n",
       "      <th>기온17hr</th>\n",
       "      <th>기온18hr</th>\n",
       "      <th>기온19hr</th>\n",
       "      <th>기온20hr</th>\n",
       "    </tr>\n",
       "    <tr>\n",
       "      <th>날짜</th>\n",
       "      <th></th>\n",
       "      <th></th>\n",
       "      <th></th>\n",
       "      <th></th>\n",
       "      <th></th>\n",
       "      <th></th>\n",
       "      <th></th>\n",
       "      <th></th>\n",
       "      <th></th>\n",
       "      <th></th>\n",
       "      <th></th>\n",
       "      <th></th>\n",
       "      <th></th>\n",
       "      <th></th>\n",
       "      <th></th>\n",
       "      <th></th>\n",
       "      <th></th>\n",
       "      <th></th>\n",
       "      <th></th>\n",
       "      <th></th>\n",
       "      <th></th>\n",
       "    </tr>\n",
       "  </thead>\n",
       "  <tbody>\n",
       "    <tr>\n",
       "      <th>2017-03-25</th>\n",
       "      <td>0.0</td>\n",
       "      <td>0.000000</td>\n",
       "      <td>0.000000</td>\n",
       "      <td>0.005703</td>\n",
       "      <td>0.042573</td>\n",
       "      <td>0.057135</td>\n",
       "      <td>0.055468</td>\n",
       "      <td>0.056714</td>\n",
       "      <td>0.031097</td>\n",
       "      <td>0.088809</td>\n",
       "      <td>...</td>\n",
       "      <td>0.276527</td>\n",
       "      <td>0.235880</td>\n",
       "      <td>0.257525</td>\n",
       "      <td>0.237113</td>\n",
       "      <td>0.223368</td>\n",
       "      <td>0.255172</td>\n",
       "      <td>0.252525</td>\n",
       "      <td>0.264026</td>\n",
       "      <td>0.279221</td>\n",
       "      <td>0.257143</td>\n",
       "    </tr>\n",
       "    <tr>\n",
       "      <th>2017-03-26</th>\n",
       "      <td>0.0</td>\n",
       "      <td>0.010638</td>\n",
       "      <td>0.489338</td>\n",
       "      <td>0.583175</td>\n",
       "      <td>0.633691</td>\n",
       "      <td>0.919958</td>\n",
       "      <td>0.850125</td>\n",
       "      <td>0.740548</td>\n",
       "      <td>0.641960</td>\n",
       "      <td>0.603129</td>\n",
       "      <td>...</td>\n",
       "      <td>0.311897</td>\n",
       "      <td>0.275748</td>\n",
       "      <td>0.267559</td>\n",
       "      <td>0.281787</td>\n",
       "      <td>0.278351</td>\n",
       "      <td>0.282759</td>\n",
       "      <td>0.282828</td>\n",
       "      <td>0.293729</td>\n",
       "      <td>0.340909</td>\n",
       "      <td>0.349206</td>\n",
       "    </tr>\n",
       "  </tbody>\n",
       "</table>\n",
       "<p>2 rows × 81 columns</p>\n",
       "</div>"
      ],
      "text/plain": [
       "            5Hr       6Hr       7Hr       8Hr       9Hr      10Hr      11Hr  \\\n",
       "날짜                                                                            \n",
       "2017-03-25  0.0  0.000000  0.000000  0.005703  0.042573  0.057135  0.055468   \n",
       "2017-03-26  0.0  0.010638  0.489338  0.583175  0.633691  0.919958  0.850125   \n",
       "\n",
       "                12Hr      13Hr      14Hr    ...       기온11hr    기온12hr  \\\n",
       "날짜                                          ...                          \n",
       "2017-03-25  0.056714  0.031097  0.088809    ...     0.276527  0.235880   \n",
       "2017-03-26  0.740548  0.641960  0.603129    ...     0.311897  0.275748   \n",
       "\n",
       "              기온13hr    기온14hr    기온15hr    기온16hr    기온17hr    기온18hr  \\\n",
       "날짜                                                                       \n",
       "2017-03-25  0.257525  0.237113  0.223368  0.255172  0.252525  0.264026   \n",
       "2017-03-26  0.267559  0.281787  0.278351  0.282759  0.282828  0.293729   \n",
       "\n",
       "              기온19hr    기온20hr  \n",
       "날짜                              \n",
       "2017-03-25  0.279221  0.257143  \n",
       "2017-03-26  0.340909  0.349206  \n",
       "\n",
       "[2 rows x 81 columns]"
      ]
     },
     "execution_count": 81,
     "metadata": {},
     "output_type": "execute_result"
    }
   ],
   "source": [
    "test_sc_df = pd.DataFrame(test_sc, columns= test.columns, index=test.index)\n",
    "test_sc_df.head(2)"
   ]
  },
  {
   "cell_type": "code",
   "execution_count": 82,
   "metadata": {},
   "outputs": [],
   "source": [
    "# test_sc_df.isnull().sum()"
   ]
  },
  {
   "cell_type": "code",
   "execution_count": 83,
   "metadata": {},
   "outputs": [],
   "source": [
    "# test_sc_df.충전시간발전량"
   ]
  },
  {
   "cell_type": "code",
   "execution_count": 84,
   "metadata": {},
   "outputs": [],
   "source": [
    "X_train = train_sc_df.dropna().drop('충전시간발전량', axis=1)\n",
    "y_train = train_sc_df.dropna()[['충전시간발전량']]"
   ]
  },
  {
   "cell_type": "code",
   "execution_count": 85,
   "metadata": {
    "scrolled": true
   },
   "outputs": [
    {
     "data": {
      "text/html": [
       "<div>\n",
       "<style scoped>\n",
       "    .dataframe tbody tr th:only-of-type {\n",
       "        vertical-align: middle;\n",
       "    }\n",
       "\n",
       "    .dataframe tbody tr th {\n",
       "        vertical-align: top;\n",
       "    }\n",
       "\n",
       "    .dataframe thead th {\n",
       "        text-align: right;\n",
       "    }\n",
       "</style>\n",
       "<table border=\"1\" class=\"dataframe\">\n",
       "  <thead>\n",
       "    <tr style=\"text-align: right;\">\n",
       "      <th></th>\n",
       "      <th>5Hr</th>\n",
       "      <th>6Hr</th>\n",
       "      <th>7Hr</th>\n",
       "      <th>8Hr</th>\n",
       "      <th>9Hr</th>\n",
       "      <th>10Hr</th>\n",
       "      <th>11Hr</th>\n",
       "      <th>12Hr</th>\n",
       "      <th>13Hr</th>\n",
       "      <th>14Hr</th>\n",
       "      <th>...</th>\n",
       "      <th>기온11hr</th>\n",
       "      <th>기온12hr</th>\n",
       "      <th>기온13hr</th>\n",
       "      <th>기온14hr</th>\n",
       "      <th>기온15hr</th>\n",
       "      <th>기온16hr</th>\n",
       "      <th>기온17hr</th>\n",
       "      <th>기온18hr</th>\n",
       "      <th>기온19hr</th>\n",
       "      <th>기온20hr</th>\n",
       "    </tr>\n",
       "    <tr>\n",
       "      <th>날짜</th>\n",
       "      <th></th>\n",
       "      <th></th>\n",
       "      <th></th>\n",
       "      <th></th>\n",
       "      <th></th>\n",
       "      <th></th>\n",
       "      <th></th>\n",
       "      <th></th>\n",
       "      <th></th>\n",
       "      <th></th>\n",
       "      <th></th>\n",
       "      <th></th>\n",
       "      <th></th>\n",
       "      <th></th>\n",
       "      <th></th>\n",
       "      <th></th>\n",
       "      <th></th>\n",
       "      <th></th>\n",
       "      <th></th>\n",
       "      <th></th>\n",
       "      <th></th>\n",
       "    </tr>\n",
       "  </thead>\n",
       "  <tbody>\n",
       "    <tr>\n",
       "      <th>2016-07-01</th>\n",
       "      <td>0.0</td>\n",
       "      <td>0.132979</td>\n",
       "      <td>0.414141</td>\n",
       "      <td>0.211027</td>\n",
       "      <td>0.089433</td>\n",
       "      <td>0.156135</td>\n",
       "      <td>0.076749</td>\n",
       "      <td>0.019991</td>\n",
       "      <td>0.06049</td>\n",
       "      <td>0.003129</td>\n",
       "      <td>...</td>\n",
       "      <td>0.842444</td>\n",
       "      <td>0.837209</td>\n",
       "      <td>0.869565</td>\n",
       "      <td>0.886598</td>\n",
       "      <td>0.910653</td>\n",
       "      <td>0.92069</td>\n",
       "      <td>0.909091</td>\n",
       "      <td>0.871287</td>\n",
       "      <td>0.87013</td>\n",
       "      <td>0.850794</td>\n",
       "    </tr>\n",
       "  </tbody>\n",
       "</table>\n",
       "<p>1 rows × 80 columns</p>\n",
       "</div>"
      ],
      "text/plain": [
       "            5Hr       6Hr       7Hr       8Hr       9Hr      10Hr      11Hr  \\\n",
       "날짜                                                                            \n",
       "2016-07-01  0.0  0.132979  0.414141  0.211027  0.089433  0.156135  0.076749   \n",
       "\n",
       "                12Hr     13Hr      14Hr    ...       기온11hr    기온12hr  \\\n",
       "날짜                                         ...                          \n",
       "2016-07-01  0.019991  0.06049  0.003129    ...     0.842444  0.837209   \n",
       "\n",
       "              기온13hr    기온14hr    기온15hr   기온16hr    기온17hr    기온18hr  \\\n",
       "날짜                                                                      \n",
       "2016-07-01  0.869565  0.886598  0.910653  0.92069  0.909091  0.871287   \n",
       "\n",
       "             기온19hr    기온20hr  \n",
       "날짜                             \n",
       "2016-07-01  0.87013  0.850794  \n",
       "\n",
       "[1 rows x 80 columns]"
      ]
     },
     "execution_count": 85,
     "metadata": {},
     "output_type": "execute_result"
    }
   ],
   "source": [
    "X_train.head(1)"
   ]
  },
  {
   "cell_type": "code",
   "execution_count": 86,
   "metadata": {},
   "outputs": [
    {
     "data": {
      "text/html": [
       "<div>\n",
       "<style scoped>\n",
       "    .dataframe tbody tr th:only-of-type {\n",
       "        vertical-align: middle;\n",
       "    }\n",
       "\n",
       "    .dataframe tbody tr th {\n",
       "        vertical-align: top;\n",
       "    }\n",
       "\n",
       "    .dataframe thead th {\n",
       "        text-align: right;\n",
       "    }\n",
       "</style>\n",
       "<table border=\"1\" class=\"dataframe\">\n",
       "  <thead>\n",
       "    <tr style=\"text-align: right;\">\n",
       "      <th></th>\n",
       "      <th>충전시간발전량</th>\n",
       "    </tr>\n",
       "    <tr>\n",
       "      <th>날짜</th>\n",
       "      <th></th>\n",
       "    </tr>\n",
       "  </thead>\n",
       "  <tbody>\n",
       "    <tr>\n",
       "      <th>2016-07-01</th>\n",
       "      <td>0.051589</td>\n",
       "    </tr>\n",
       "  </tbody>\n",
       "</table>\n",
       "</div>"
      ],
      "text/plain": [
       "             충전시간발전량\n",
       "날짜                  \n",
       "2016-07-01  0.051589"
      ]
     },
     "execution_count": 86,
     "metadata": {},
     "output_type": "execute_result"
    }
   ],
   "source": [
    "y_train.head(1)"
   ]
  },
  {
   "cell_type": "code",
   "execution_count": 87,
   "metadata": {},
   "outputs": [],
   "source": [
    "X_test = test_sc_df.dropna().drop('충전시간발전량', axis=1)\n",
    "# y_test = test_sc_df.dropna().충전시간발전량\n",
    "y_test = test_sc_df.dropna()[['충전시간발전량']]"
   ]
  },
  {
   "cell_type": "code",
   "execution_count": 88,
   "metadata": {},
   "outputs": [
    {
     "data": {
      "text/html": [
       "<div>\n",
       "<style scoped>\n",
       "    .dataframe tbody tr th:only-of-type {\n",
       "        vertical-align: middle;\n",
       "    }\n",
       "\n",
       "    .dataframe tbody tr th {\n",
       "        vertical-align: top;\n",
       "    }\n",
       "\n",
       "    .dataframe thead th {\n",
       "        text-align: right;\n",
       "    }\n",
       "</style>\n",
       "<table border=\"1\" class=\"dataframe\">\n",
       "  <thead>\n",
       "    <tr style=\"text-align: right;\">\n",
       "      <th></th>\n",
       "      <th>5Hr</th>\n",
       "      <th>6Hr</th>\n",
       "      <th>7Hr</th>\n",
       "      <th>8Hr</th>\n",
       "      <th>9Hr</th>\n",
       "      <th>10Hr</th>\n",
       "      <th>11Hr</th>\n",
       "      <th>12Hr</th>\n",
       "      <th>13Hr</th>\n",
       "      <th>14Hr</th>\n",
       "      <th>...</th>\n",
       "      <th>기온11hr</th>\n",
       "      <th>기온12hr</th>\n",
       "      <th>기온13hr</th>\n",
       "      <th>기온14hr</th>\n",
       "      <th>기온15hr</th>\n",
       "      <th>기온16hr</th>\n",
       "      <th>기온17hr</th>\n",
       "      <th>기온18hr</th>\n",
       "      <th>기온19hr</th>\n",
       "      <th>기온20hr</th>\n",
       "    </tr>\n",
       "    <tr>\n",
       "      <th>날짜</th>\n",
       "      <th></th>\n",
       "      <th></th>\n",
       "      <th></th>\n",
       "      <th></th>\n",
       "      <th></th>\n",
       "      <th></th>\n",
       "      <th></th>\n",
       "      <th></th>\n",
       "      <th></th>\n",
       "      <th></th>\n",
       "      <th></th>\n",
       "      <th></th>\n",
       "      <th></th>\n",
       "      <th></th>\n",
       "      <th></th>\n",
       "      <th></th>\n",
       "      <th></th>\n",
       "      <th></th>\n",
       "      <th></th>\n",
       "      <th></th>\n",
       "      <th></th>\n",
       "    </tr>\n",
       "  </thead>\n",
       "  <tbody>\n",
       "    <tr>\n",
       "      <th>2017-03-25</th>\n",
       "      <td>0.0</td>\n",
       "      <td>0.0</td>\n",
       "      <td>0.0</td>\n",
       "      <td>0.005703</td>\n",
       "      <td>0.042573</td>\n",
       "      <td>0.057135</td>\n",
       "      <td>0.055468</td>\n",
       "      <td>0.056714</td>\n",
       "      <td>0.031097</td>\n",
       "      <td>0.088809</td>\n",
       "      <td>...</td>\n",
       "      <td>0.276527</td>\n",
       "      <td>0.23588</td>\n",
       "      <td>0.257525</td>\n",
       "      <td>0.237113</td>\n",
       "      <td>0.223368</td>\n",
       "      <td>0.255172</td>\n",
       "      <td>0.252525</td>\n",
       "      <td>0.264026</td>\n",
       "      <td>0.279221</td>\n",
       "      <td>0.257143</td>\n",
       "    </tr>\n",
       "  </tbody>\n",
       "</table>\n",
       "<p>1 rows × 80 columns</p>\n",
       "</div>"
      ],
      "text/plain": [
       "            5Hr  6Hr  7Hr       8Hr       9Hr      10Hr      11Hr      12Hr  \\\n",
       "날짜                                                                            \n",
       "2017-03-25  0.0  0.0  0.0  0.005703  0.042573  0.057135  0.055468  0.056714   \n",
       "\n",
       "                13Hr      14Hr    ...       기온11hr   기온12hr    기온13hr  \\\n",
       "날짜                                ...                                   \n",
       "2017-03-25  0.031097  0.088809    ...     0.276527  0.23588  0.257525   \n",
       "\n",
       "              기온14hr    기온15hr    기온16hr    기온17hr    기온18hr    기온19hr  \\\n",
       "날짜                                                                       \n",
       "2017-03-25  0.237113  0.223368  0.255172  0.252525  0.264026  0.279221   \n",
       "\n",
       "              기온20hr  \n",
       "날짜                    \n",
       "2017-03-25  0.257143  \n",
       "\n",
       "[1 rows x 80 columns]"
      ]
     },
     "execution_count": 88,
     "metadata": {},
     "output_type": "execute_result"
    }
   ],
   "source": [
    "X_test.head(1)"
   ]
  },
  {
   "cell_type": "code",
   "execution_count": 89,
   "metadata": {
    "scrolled": true
   },
   "outputs": [
    {
     "data": {
      "text/html": [
       "<div>\n",
       "<style scoped>\n",
       "    .dataframe tbody tr th:only-of-type {\n",
       "        vertical-align: middle;\n",
       "    }\n",
       "\n",
       "    .dataframe tbody tr th {\n",
       "        vertical-align: top;\n",
       "    }\n",
       "\n",
       "    .dataframe thead th {\n",
       "        text-align: right;\n",
       "    }\n",
       "</style>\n",
       "<table border=\"1\" class=\"dataframe\">\n",
       "  <thead>\n",
       "    <tr style=\"text-align: right;\">\n",
       "      <th></th>\n",
       "      <th>충전시간발전량</th>\n",
       "    </tr>\n",
       "    <tr>\n",
       "      <th>날짜</th>\n",
       "      <th></th>\n",
       "    </tr>\n",
       "  </thead>\n",
       "  <tbody>\n",
       "    <tr>\n",
       "      <th>2017-03-25</th>\n",
       "      <td>0.077162</td>\n",
       "    </tr>\n",
       "  </tbody>\n",
       "</table>\n",
       "</div>"
      ],
      "text/plain": [
       "             충전시간발전량\n",
       "날짜                  \n",
       "2017-03-25  0.077162"
      ]
     },
     "execution_count": 89,
     "metadata": {},
     "output_type": "execute_result"
    }
   ],
   "source": [
    "y_test.head(1)"
   ]
  },
  {
   "cell_type": "code",
   "execution_count": 90,
   "metadata": {},
   "outputs": [],
   "source": [
    "X_train = X_train.values\n",
    "X_test = X_test.values\n",
    "y_train = y_train.values\n",
    "y_test = y_test.values"
   ]
  },
  {
   "cell_type": "code",
   "execution_count": 91,
   "metadata": {},
   "outputs": [],
   "source": [
    "# keras에서는 RNN계열의 모델을 트레이닝할 때 요구되는 데이터의 형식이 있다.\n",
    "# 바로 3차원 데이터여야하며, 각각의 차원은(size, timestep, feature)"
   ]
  },
  {
   "cell_type": "code",
   "execution_count": 92,
   "metadata": {},
   "outputs": [
    {
     "data": {
      "text/plain": [
       "(268, 80)"
      ]
     },
     "execution_count": 92,
     "metadata": {},
     "output_type": "execute_result"
    }
   ],
   "source": [
    "X_train.shape"
   ]
  },
  {
   "cell_type": "code",
   "execution_count": 93,
   "metadata": {},
   "outputs": [],
   "source": [
    "X_train_t = X_train.reshape(X_train.shape[0], 80, 1)\n",
    "X_test_t = X_test.reshape(X_test.shape[0], 80, 1)"
   ]
  },
  {
   "cell_type": "code",
   "execution_count": 94,
   "metadata": {
    "scrolled": true
   },
   "outputs": [
    {
     "data": {
      "text/plain": [
       "(268, 80, 1)"
      ]
     },
     "execution_count": 94,
     "metadata": {},
     "output_type": "execute_result"
    }
   ],
   "source": [
    "X_train_t.shape"
   ]
  },
  {
   "cell_type": "code",
   "execution_count": 95,
   "metadata": {
    "scrolled": true
   },
   "outputs": [
    {
     "data": {
      "text/plain": [
       "(115, 80, 1)"
      ]
     },
     "execution_count": 95,
     "metadata": {},
     "output_type": "execute_result"
    }
   ],
   "source": [
    "X_test_t.shape"
   ]
  },
  {
   "cell_type": "code",
   "execution_count": 96,
   "metadata": {},
   "outputs": [],
   "source": [
    "from keras.layers import LSTM\n",
    "from keras.models import Sequential\n",
    "from keras.layers import Dense\n",
    "import keras.backend as K\n",
    "from keras.callbacks import EarlyStopping"
   ]
  },
  {
   "cell_type": "code",
   "execution_count": 97,
   "metadata": {},
   "outputs": [],
   "source": [
    "K.clear_session()\n",
    "model = Sequential()\n",
    "model.add(LSTM(20, input_shape=(80,1))) # shape는 차원맞추는 것\n",
    "model.add(Dense(1))  #Dense : output 개수 (이거 아닌듯!) -> layer의 갯수인"
   ]
  },
  {
   "cell_type": "code",
   "execution_count": 98,
   "metadata": {},
   "outputs": [
    {
     "data": {
      "text/plain": [
       "(268, 80, 1)"
      ]
     },
     "execution_count": 98,
     "metadata": {},
     "output_type": "execute_result"
    }
   ],
   "source": [
    "X_train_t.shape"
   ]
  },
  {
   "cell_type": "code",
   "execution_count": 99,
   "metadata": {},
   "outputs": [
    {
     "name": "stdout",
     "output_type": "stream",
     "text": [
      "Epoch 1/100\n",
      "268/268 [==============================] - 1s 3ms/step - loss: 0.3952\n",
      "Epoch 2/100\n",
      "268/268 [==============================] - 0s 942us/step - loss: 0.2415\n",
      "Epoch 3/100\n",
      "268/268 [==============================] - 0s 915us/step - loss: 0.1478\n",
      "Epoch 4/100\n",
      "268/268 [==============================] - 0s 923us/step - loss: 0.1026\n",
      "Epoch 5/100\n",
      "268/268 [==============================] - 0s 915us/step - loss: 0.1020\n",
      "Epoch 6/100\n",
      "268/268 [==============================] - 0s 930us/step - loss: 0.0980\n",
      "Epoch 7/100\n",
      "268/268 [==============================] - 0s 908us/step - loss: 0.0912\n",
      "Epoch 8/100\n",
      "268/268 [==============================] - 0s 908us/step - loss: 0.0886\n",
      "Epoch 9/100\n",
      "268/268 [==============================] - 0s 960us/step - loss: 0.0853\n",
      "Epoch 10/100\n",
      "268/268 [==============================] - 0s 1ms/step - loss: 0.0828\n",
      "Epoch 11/100\n",
      "268/268 [==============================] - 0s 956us/step - loss: 0.0811\n",
      "Epoch 12/100\n",
      "268/268 [==============================] - 0s 927us/step - loss: 0.0793\n",
      "Epoch 13/100\n",
      "268/268 [==============================] - 0s 1ms/step - loss: 0.0783\n",
      "Epoch 14/100\n",
      "268/268 [==============================] - 0s 964us/step - loss: 0.0776\n",
      "Epoch 15/100\n",
      "268/268 [==============================] - 0s 915us/step - loss: 0.0768\n",
      "Epoch 16/100\n",
      "268/268 [==============================] - 0s 938us/step - loss: 0.0774\n",
      "Epoch 17/100\n",
      "268/268 [==============================] - 0s 923us/step - loss: 0.0760\n",
      "Epoch 18/100\n",
      "268/268 [==============================] - 0s 945us/step - loss: 0.0764\n",
      "Epoch 19/100\n",
      "268/268 [==============================] - 0s 938us/step - loss: 0.0762\n",
      "Epoch 20/100\n",
      "268/268 [==============================] - 0s 1ms/step - loss: 0.0759\n",
      "Epoch 21/100\n",
      "268/268 [==============================] - 0s 934us/step - loss: 0.0760\n",
      "Epoch 22/100\n",
      "268/268 [==============================] - 0s 930us/step - loss: 0.0758\n",
      "Epoch 23/100\n",
      "268/268 [==============================] - 0s 942us/step - loss: 0.0757\n",
      "Epoch 24/100\n",
      "268/268 [==============================] - 0s 930us/step - loss: 0.0754\n",
      "Epoch 25/100\n",
      "268/268 [==============================] - 0s 934us/step - loss: 0.0753\n",
      "Epoch 26/100\n",
      "268/268 [==============================] - 0s 945us/step - loss: 0.0755\n",
      "Epoch 27/100\n",
      "268/268 [==============================] - 0s 934us/step - loss: 0.0750\n",
      "Epoch 28/100\n",
      "268/268 [==============================] - 0s 942us/step - loss: 0.0751\n",
      "Epoch 29/100\n",
      "268/268 [==============================] - 0s 934us/step - loss: 0.0748\n",
      "Epoch 30/100\n",
      "268/268 [==============================] - 0s 949us/step - loss: 0.0750\n",
      "Epoch 31/100\n",
      "268/268 [==============================] - 0s 930us/step - loss: 0.0743\n",
      "Epoch 32/100\n",
      "268/268 [==============================] - 0s 919us/step - loss: 0.0740\n",
      "Epoch 33/100\n",
      "268/268 [==============================] - 0s 942us/step - loss: 0.0743\n",
      "Epoch 34/100\n",
      "268/268 [==============================] - 0s 923us/step - loss: 0.0731\n",
      "Epoch 35/100\n",
      "268/268 [==============================] - 0s 934us/step - loss: 0.0726\n",
      "Epoch 36/100\n",
      "268/268 [==============================] - 0s 945us/step - loss: 0.0715\n",
      "Epoch 37/100\n",
      "268/268 [==============================] - 0s 923us/step - loss: 0.0692\n",
      "Epoch 38/100\n",
      "268/268 [==============================] - 0s 930us/step - loss: 0.0689\n",
      "Epoch 39/100\n",
      "268/268 [==============================] - 0s 919us/step - loss: 0.0665\n",
      "Epoch 40/100\n",
      "268/268 [==============================] - 0s 927us/step - loss: 0.0668\n",
      "Epoch 41/100\n",
      "268/268 [==============================] - 0s 1ms/step - loss: 0.0665\n",
      "Epoch 42/100\n",
      "268/268 [==============================] - 0s 1ms/step - loss: 0.0693\n",
      "Epoch 43/100\n",
      "268/268 [==============================] - 0s 1ms/step - loss: 0.0717\n",
      "Epoch 44/100\n",
      "268/268 [==============================] - 0s 1ms/step - loss: 0.0679\n",
      "Epoch 45/100\n",
      "268/268 [==============================] - 0s 1ms/step - loss: 0.0672\n",
      "Epoch 46/100\n",
      "268/268 [==============================] - 0s 1ms/step - loss: 0.0658\n",
      "Epoch 47/100\n",
      "268/268 [==============================] - 0s 1ms/step - loss: 0.0650\n",
      "Epoch 48/100\n",
      "268/268 [==============================] - 0s 1ms/step - loss: 0.0639\n",
      "Epoch 49/100\n",
      "268/268 [==============================] - 0s 1ms/step - loss: 0.0658\n",
      "Epoch 50/100\n",
      "268/268 [==============================] - 0s 1ms/step - loss: 0.0617\n",
      "Epoch 51/100\n",
      "268/268 [==============================] - 0s 1ms/step - loss: 0.0612\n",
      "Epoch 52/100\n",
      "268/268 [==============================] - 0s 1ms/step - loss: 0.0603\n",
      "Epoch 53/100\n",
      "268/268 [==============================] - 0s 1ms/step - loss: 0.0594\n",
      "Epoch 54/100\n",
      "268/268 [==============================] - 0s 1ms/step - loss: 0.0571\n",
      "Epoch 55/100\n",
      "268/268 [==============================] - 0s 1ms/step - loss: 0.0589\n",
      "Epoch 56/100\n",
      "268/268 [==============================] - 0s 994us/step - loss: 0.0567\n",
      "Epoch 57/100\n",
      "268/268 [==============================] - 0s 1ms/step - loss: 0.0514\n",
      "Epoch 58/100\n",
      "268/268 [==============================] - 0s 1ms/step - loss: 0.0579\n",
      "Epoch 59/100\n",
      "268/268 [==============================] - 0s 1ms/step - loss: 0.0515\n",
      "Epoch 60/100\n",
      "268/268 [==============================] - 0s 1ms/step - loss: 0.0472\n",
      "Epoch 61/100\n",
      "268/268 [==============================] - 0s 1ms/step - loss: 0.0454\n",
      "Epoch 62/100\n",
      "268/268 [==============================] - 0s 1ms/step - loss: 0.0435\n",
      "Epoch 63/100\n",
      "268/268 [==============================] - 0s 1ms/step - loss: 0.0420\n",
      "Epoch 64/100\n",
      "268/268 [==============================] - 0s 1ms/step - loss: 0.0486\n",
      "Epoch 65/100\n",
      "268/268 [==============================] - 0s 1ms/step - loss: 0.0391\n",
      "Epoch 66/100\n",
      "268/268 [==============================] - 0s 1ms/step - loss: 0.0336\n",
      "Epoch 67/100\n",
      "268/268 [==============================] - 0s 1ms/step - loss: 0.0364\n",
      "Epoch 68/100\n",
      "268/268 [==============================] - 0s 1ms/step - loss: 0.0303\n",
      "Epoch 69/100\n",
      "268/268 [==============================] - 0s 1ms/step - loss: 0.0293\n",
      "Epoch 70/100\n",
      "268/268 [==============================] - 0s 1ms/step - loss: 0.0275\n",
      "Epoch 71/100\n",
      "268/268 [==============================] - 0s 1ms/step - loss: 0.0265\n",
      "Epoch 72/100\n",
      "268/268 [==============================] - 0s 1ms/step - loss: 0.0243\n",
      "Epoch 73/100\n",
      "268/268 [==============================] - 0s 1ms/step - loss: 0.0300\n",
      "Epoch 74/100\n",
      "268/268 [==============================] - 0s 2ms/step - loss: 0.0209\n",
      "Epoch 75/100\n",
      "268/268 [==============================] - 0s 1ms/step - loss: 0.0308\n",
      "Epoch 76/100\n",
      "268/268 [==============================] - 0s 2ms/step - loss: 0.0317\n",
      "Epoch 77/100\n",
      "268/268 [==============================] - 0s 1ms/step - loss: 0.0211\n",
      "Epoch 78/100\n",
      "268/268 [==============================] - 0s 1ms/step - loss: 0.0209\n",
      "Epoch 79/100\n",
      "268/268 [==============================] - 0s 1ms/step - loss: 0.0193\n",
      "Epoch 80/100\n",
      "268/268 [==============================] - 0s 1ms/step - loss: 0.0182\n",
      "Epoch 81/100\n",
      "268/268 [==============================] - 0s 1ms/step - loss: 0.0170\n",
      "Epoch 82/100\n",
      "268/268 [==============================] - 0s 1ms/step - loss: 0.0156\n",
      "Epoch 83/100\n",
      "268/268 [==============================] - 0s 1ms/step - loss: 0.0148\n",
      "Epoch 84/100\n",
      "268/268 [==============================] - 0s 1ms/step - loss: 0.0156\n",
      "Epoch 85/100\n",
      "268/268 [==============================] - 0s 1ms/step - loss: 0.0144\n",
      "Epoch 86/100\n",
      "268/268 [==============================] - 0s 1ms/step - loss: 0.0117\n",
      "Epoch 87/100\n",
      "268/268 [==============================] - 0s 1ms/step - loss: 0.0112\n",
      "Epoch 88/100\n",
      "268/268 [==============================] - 0s 1ms/step - loss: 0.0106\n",
      "Epoch 89/100\n",
      "268/268 [==============================] - 0s 1ms/step - loss: 0.0103\n",
      "Epoch 90/100\n",
      "268/268 [==============================] - 0s 2ms/step - loss: 0.0093\n",
      "Epoch 91/100\n",
      "268/268 [==============================] - 0s 1ms/step - loss: 0.0096\n",
      "Epoch 92/100\n",
      "268/268 [==============================] - 0s 1ms/step - loss: 0.0098\n",
      "Epoch 93/100\n",
      "268/268 [==============================] - 0s 1ms/step - loss: 0.0090\n",
      "Epoch 94/100\n",
      "268/268 [==============================] - 0s 1ms/step - loss: 0.0089\n",
      "Epoch 95/100\n",
      "268/268 [==============================] - 0s 1ms/step - loss: 0.0081\n",
      "Epoch 96/100\n",
      "268/268 [==============================] - 0s 1ms/step - loss: 0.0076\n",
      "Epoch 97/100\n",
      "268/268 [==============================] - 0s 2ms/step - loss: 0.0078\n",
      "Epoch 98/100\n"
     ]
    },
    {
     "name": "stdout",
     "output_type": "stream",
     "text": [
      "268/268 [==============================] - 0s 1ms/step - loss: 0.0078\n",
      "Epoch 99/100\n",
      "268/268 [==============================] - 0s 1ms/step - loss: 0.0074\n",
      "Epoch 100/100\n",
      "268/268 [==============================] - 0s 1ms/step - loss: 0.0078\n"
     ]
    },
    {
     "data": {
      "text/plain": [
       "<keras.callbacks.History at 0x2a26c522320>"
      ]
     },
     "execution_count": 99,
     "metadata": {},
     "output_type": "execute_result"
    }
   ],
   "source": [
    "model.compile(loss='mean_squared_error', optimizer='adam')\n",
    "model.fit(X_train_t, y_train, epochs = 100, batch_size=30, verbose=1)"
   ]
  },
  {
   "cell_type": "code",
   "execution_count": 100,
   "metadata": {},
   "outputs": [],
   "source": [
    "y_pred = model.predict(X_test_t)"
   ]
  },
  {
   "cell_type": "code",
   "execution_count": 101,
   "metadata": {},
   "outputs": [],
   "source": [
    "from sklearn.metrics import mean_squared_error\n",
    "from sklearn.model_selection import train_test_split\n",
    "import keras\n",
    "from keras.models import Sequential\n",
    "from keras.layers import Dense, Dropout, LSTM"
   ]
  },
  {
   "cell_type": "code",
   "execution_count": 102,
   "metadata": {},
   "outputs": [],
   "source": [
    "from math import sqrt"
   ]
  },
  {
   "cell_type": "code",
   "execution_count": 103,
   "metadata": {},
   "outputs": [],
   "source": [
    "rmse = sqrt(mean_squared_error(y_test, y_pred))"
   ]
  },
  {
   "cell_type": "code",
   "execution_count": 104,
   "metadata": {},
   "outputs": [
    {
     "data": {
      "text/plain": [
       "0.12626235160186788"
      ]
     },
     "execution_count": 104,
     "metadata": {},
     "output_type": "execute_result"
    }
   ],
   "source": [
    "rmse"
   ]
  },
  {
   "cell_type": "code",
   "execution_count": 105,
   "metadata": {
    "scrolled": false
   },
   "outputs": [
    {
     "data": {
      "image/png": "[encoded data removed]",
      "text/plain": [
       "<Figure size 432x288 with 2 Axes>"
      ]
     },
     "metadata": {},
     "output_type": "display_data"
    }
   ],
   "source": [
    "fig, loss_ax = plt.subplots()\n",
    "\n",
    "acc_ax = loss_ax.twinx()\n",
    "\n",
    "pred = y_pred\n",
    "\n",
    "loss_ax.plot(pred, 'b', label='pred')\n",
    "\n",
    "loss_ax.plot(y_test, 'r', label='act')\n",
    "\n",
    "loss_ax.legend(loc='upper left')\n",
    "\n",
    "plt.show()"
   ]
  },
  {
   "cell_type": "code",
   "execution_count": 106,
   "metadata": {
    "scrolled": false
   },
   "outputs": [
    {
     "name": "stdout",
     "output_type": "stream",
     "text": [
      "Epoch 1/50\n",
      "268/268 [==============================] - 1s 2ms/step - loss: 0.5106\n",
      "Epoch 2/50\n",
      "268/268 [==============================] - 0s 711us/step - loss: 0.1089\n",
      "Epoch 3/50\n",
      "268/268 [==============================] - 0s 618us/step - loss: 0.0530\n",
      "Epoch 4/50\n",
      "268/268 [==============================] - 0s 562us/step - loss: 0.0333\n",
      "Epoch 5/50\n",
      "268/268 [==============================] - 0s 610us/step - loss: 0.0345\n",
      "Epoch 6/50\n",
      "268/268 [==============================] - 0s 566us/step - loss: 0.0329\n",
      "Epoch 7/50\n",
      "268/268 [==============================] - 0s 569us/step - loss: 0.0294\n",
      "Epoch 8/50\n",
      "268/268 [==============================] - 0s 558us/step - loss: 0.0322\n",
      "Epoch 9/50\n",
      "268/268 [==============================] - 0s 562us/step - loss: 0.0292\n",
      "Epoch 10/50\n",
      "268/268 [==============================] - 0s 551us/step - loss: 0.0249\n",
      "Epoch 11/50\n",
      "268/268 [==============================] - 0s 573us/step - loss: 0.0205\n",
      "Epoch 12/50\n",
      "268/268 [==============================] - 0s 618us/step - loss: 0.0195\n",
      "Epoch 13/50\n",
      "268/268 [==============================] - 0s 547us/step - loss: 0.0188\n",
      "Epoch 14/50\n",
      "268/268 [==============================] - 0s 554us/step - loss: 0.0184\n",
      "Epoch 15/50\n",
      "268/268 [==============================] - 0s 569us/step - loss: 0.0183\n",
      "Epoch 16/50\n",
      "268/268 [==============================] - 0s 651us/step - loss: 0.0161\n",
      "Epoch 17/50\n",
      "268/268 [==============================] - 0s 584us/step - loss: 0.0191\n",
      "Epoch 18/50\n",
      "268/268 [==============================] - 0s 603us/step - loss: 0.0210\n",
      "Epoch 19/50\n",
      "268/268 [==============================] - 0s 640us/step - loss: 0.0150\n",
      "Epoch 20/50\n",
      "268/268 [==============================] - 0s 588us/step - loss: 0.0141\n",
      "Epoch 21/50\n",
      "268/268 [==============================] - 0s 569us/step - loss: 0.0114\n",
      "Epoch 22/50\n",
      "268/268 [==============================] - 0s 581us/step - loss: 0.0150\n",
      "Epoch 23/50\n",
      "268/268 [==============================] - 0s 573us/step - loss: 0.0129\n",
      "Epoch 24/50\n",
      "268/268 [==============================] - 0s 621us/step - loss: 0.0116\n",
      "Epoch 25/50\n",
      "268/268 [==============================] - 0s 551us/step - loss: 0.0092\n",
      "Epoch 26/50\n",
      "268/268 [==============================] - 0s 547us/step - loss: 0.0104\n",
      "Epoch 27/50\n",
      "268/268 [==============================] - 0s 536us/step - loss: 0.0113\n",
      "Epoch 28/50\n",
      "268/268 [==============================] - 0s 584us/step - loss: 0.0101\n",
      "Epoch 29/50\n",
      "268/268 [==============================] - 0s 577us/step - loss: 0.0089\n",
      "Epoch 30/50\n",
      "268/268 [==============================] - 0s 536us/step - loss: 0.0092\n",
      "Epoch 31/50\n",
      "268/268 [==============================] - 0s 495us/step - loss: 0.0113\n",
      "Epoch 32/50\n",
      "268/268 [==============================] - 0s 499us/step - loss: 0.0092\n",
      "Epoch 33/50\n",
      "268/268 [==============================] - 0s 514us/step - loss: 0.0106\n",
      "Epoch 34/50\n",
      "268/268 [==============================] - 0s 532us/step - loss: 0.0091\n",
      "Epoch 35/50\n",
      "268/268 [==============================] - 0s 521us/step - loss: 0.0083\n",
      "Epoch 36/50\n",
      "268/268 [==============================] - 0s 495us/step - loss: 0.0096\n",
      "Epoch 37/50\n",
      "268/268 [==============================] - 0s 510us/step - loss: 0.0137\n",
      "Epoch 38/50\n",
      "268/268 [==============================] - 0s 528us/step - loss: 0.0098\n",
      "Epoch 39/50\n",
      "268/268 [==============================] - 0s 521us/step - loss: 0.0086\n",
      "Epoch 40/50\n",
      "268/268 [==============================] - 0s 510us/step - loss: 0.0087\n",
      "Epoch 41/50\n",
      "268/268 [==============================] - 0s 514us/step - loss: 0.0092\n",
      "Epoch 42/50\n",
      "268/268 [==============================] - 0s 506us/step - loss: 0.0091\n",
      "Epoch 43/50\n",
      "268/268 [==============================] - 0s 536us/step - loss: 0.0074\n",
      "Epoch 44/50\n",
      "268/268 [==============================] - 0s 521us/step - loss: 0.0090\n",
      "Epoch 45/50\n",
      "268/268 [==============================] - 0s 532us/step - loss: 0.0084\n",
      "Epoch 46/50\n",
      "268/268 [==============================] - 0s 540us/step - loss: 0.0068\n",
      "Epoch 47/50\n",
      "268/268 [==============================] - 0s 514us/step - loss: 0.0108\n",
      "Epoch 48/50\n",
      "268/268 [==============================] - 0s 514us/step - loss: 0.0064\n",
      "Epoch 49/50\n",
      "268/268 [==============================] - 0s 502us/step - loss: 0.0057\n",
      "Epoch 50/50\n",
      "268/268 [==============================] - 0s 502us/step - loss: 0.0064\n",
      "115/115 [==============================] - 0s 702us/step\n",
      "Test RMSE: 0.053\n"
     ]
    }
   ],
   "source": [
    "model50 = Sequential()\n",
    "model50.add(Dense(80, input_dim = 80, activation = 'tanh'))\n",
    "model50.add(Dropout(0.2))\n",
    "model50.add(Dense(300, activation = 'tanh'))\n",
    "model50.add(Dropout(0.2))\n",
    "model50.add(Dense(500, activation = 'tanh'))\n",
    "model50.add(Dropout(0.2))\n",
    "model50.add(Dense(300, activation = 'tanh'))\n",
    "model50.add(Dropout(0.2))\n",
    "model50.add(Dense(1))\n",
    "# model50.compile(loss='mean_squared_error', optimizer='rmsprop')\n",
    "model50.compile(loss='mean_squared_error', optimizer='adam')\n",
    "\n",
    "hist = model50.fit(X_train, y_train, epochs=50, batch_size=10)\n",
    "model50.evaluate(X_test, y_test)\n",
    "yhat = model50.predict(X_test)\n",
    "rmse2 = sqrt(mean_squared_error(y_test, yhat))\n",
    "print('Test RMSE: %.3f' % rmse2)\n"
   ]
  },
  {
   "cell_type": "code",
   "execution_count": 108,
   "metadata": {},
   "outputs": [],
   "source": [
    "from math import sqrt"
   ]
  },
  {
   "cell_type": "code",
   "execution_count": 109,
   "metadata": {},
   "outputs": [
    {
     "data": {
      "image/png": "[encoded data removed]",
      "text/plain": [
       "<Figure size 432x288 with 2 Axes>"
      ]
     },
     "metadata": {},
     "output_type": "display_data"
    }
   ],
   "source": [
    "fig, loss_ax = plt.subplots()\n",
    "\n",
    "acc_ax = loss_ax.twinx()\n",
    "\n",
    "pred = y_pred\n",
    "\n",
    "loss_ax.plot(yhat, 'b', label='pred')\n",
    "\n",
    "loss_ax.plot(y_test, 'r', label='act')\n",
    "\n",
    "loss_ax.legend(loc='upper left')\n",
    "\n",
    "plt.show()"
   ]
  },
  {
   "cell_type": "code",
   "execution_count": null,
   "metadata": {},
   "outputs": [],
   "source": []
  }
 ],
 "metadata": {
  "kernelspec": {
   "display_name": "Python 3",
   "language": "python",
   "name": "python3"
  },
  "language_info": {
   "codemirror_mode": {
    "name": "ipython",
    "version": 3
   },
   "file_extension": ".py",
   "mimetype": "text/x-python",
   "name": "python",
   "nbconvert_exporter": "python",
   "pygments_lexer": "ipython3",
   "version": "3.6.5"
  }
 },
 "nbformat": 4,
 "nbformat_minor": 2
}
